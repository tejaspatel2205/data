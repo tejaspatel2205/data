{
 "cells": [
  {
   "cell_type": "code",
   "execution_count": 1,
   "metadata": {},
   "outputs": [],
   "source": [
    "# Load environment variables from .env file\n",
    "from dotenv import load_dotenv\n",
    "\n",
    "# Load .env file\n",
    "load_dotenv()\n",
    "import random\n",
    "\n",
    "import os\n",
    "from vexa_client import VexaClient\n",
    "\n",
    "import os\n",
    "TOKEN = os.getenv('ADMIN_API_TOKEN')\n",
    "url = \"http://localhost:8056\"\n",
    "client = VexaClient(\n",
    "    base_url=url,\n",
    "    admin_key=TOKEN  # From docker-compose.yml\n",
    ")"
   ]
  },
  {
   "cell_type": "code",
   "execution_count": 2,
   "metadata": {},
   "outputs": [],
   "source": [
    "# Assuming 'client' is an instance of VexaClient with a valid admin_key\n",
    "target_email = \"leonardo.marciano@toolzz.me\"  # Replace with the actual email\n",
    "new_max_bots = 5                # Replace with the desired maximum"
   ]
  },
  {
   "cell_type": "code",
   "execution_count": 6,
   "metadata": {},
   "outputs": [
    {
     "name": "stdout",
     "output_type": "stream",
     "text": [
      "\n",
      "DEBUG: Making GET request to http://localhost:8056/admin/users/email/leonardo.marciano@toolzz.me\n",
      "DEBUG: Headers: {'Content-Type': 'application/json', 'X-Admin-API-Key': 'lkwnekf68&IJBKb7'}\n",
      "DEBUG: Params: None\n",
      "DEBUG: JSON data: None\n",
      "DEBUG: Response status: 200\n",
      "DEBUG: Response headers: {'date': 'Sat, 24 May 2025 20:48:45 GMT, Sat, 24 May 2025 20:48:44 GMT', 'server': 'uvicorn, uvicorn', 'content-length': '254', 'content-type': 'application/json'}\n",
      "DEBUG: Response content: {\"email\":\"leonardo.marciano@toolzz.me\",\"name\":\"Leonardo Marciano\",\"image_url\":\"https://lh3.googleusercontent.com/a/ACg8ocKGg-NsR6YslYuaNl2_QQC68-WoI-xNcZoT0KZjJe2w0SEook00=s96-c\",\"max_concurrent_bots\":1,\"id\":317,\"created_at\":\"2025-05-24T18:52:12.592276\"}...\n"
     ]
    }
   ],
   "source": [
    "user_id = client.get_user_by_email(target_email)['id']"
   ]
  },
  {
   "cell_type": "code",
   "execution_count": 7,
   "metadata": {},
   "outputs": [
    {
     "name": "stdout",
     "output_type": "stream",
     "text": [
      "\n",
      "DEBUG: Making PATCH request to http://localhost:8056/admin/users/317\n",
      "DEBUG: Headers: {'Content-Type': 'application/json', 'X-Admin-API-Key': 'lkwnekf68&IJBKb7'}\n",
      "DEBUG: Params: None\n",
      "DEBUG: JSON data: {'max_concurrent_bots': 5}\n",
      "DEBUG: Response status: 200\n",
      "DEBUG: Response headers: {'date': 'Sat, 24 May 2025 20:48:49 GMT, Sat, 24 May 2025 20:48:50 GMT', 'server': 'uvicorn, uvicorn', 'content-length': '254', 'content-type': 'application/json'}\n",
      "DEBUG: Response content: {\"email\":\"leonardo.marciano@toolzz.me\",\"name\":\"Leonardo Marciano\",\"image_url\":\"https://lh3.googleusercontent.com/a/ACg8ocKGg-NsR6YslYuaNl2_QQC68-WoI-xNcZoT0KZjJe2w0SEook00=s96-c\",\"max_concurrent_bots\":5,\"id\":317,\"created_at\":\"2025-05-24T18:52:12.592276\"}...\n",
      "Successfully updated user leonardo.marciano@toolzz.me (ID: 317): {'email': 'leonardo.marciano@toolzz.me', 'name': 'Leonardo Marciano', 'image_url': 'https://lh3.googleusercontent.com/a/ACg8ocKGg-NsR6YslYuaNl2_QQC68-WoI-xNcZoT0KZjJe2w0SEook00=s96-c', 'max_concurrent_bots': 5, 'id': 317, 'created_at': '2025-05-24T18:52:12.592276'}\n"
     ]
    }
   ],
   "source": [
    "\n",
    "updated_user_info = client.update_user(\n",
    "    user_id=user_id,\n",
    "    max_concurrent_bots=new_max_bots\n",
    ")\n",
    "print(f\"Successfully updated user {target_email} (ID: {user_id}): {updated_user_info}\")\n"
   ]
  },
  {
   "cell_type": "code",
   "execution_count": null,
   "metadata": {},
   "outputs": [],
   "source": [
    "# Assuming 'client' is an instance of VexaClient with a valid admin_key\n",
    "user_id_to_update = 123  # Replace with the actual user ID\n",
    "new_max_bots = 10       # Replace with the desired maximum number of concurrent bots\n",
    "\n",
    "try:\n",
    "    updated_user_info = client.update_user(\n",
    "        user_id=user_id_to_update,\n",
    "        max_concurrent_bots=new_max_bots\n",
    "    )\n",
    "    print(f\"Successfully updated user {user_id_to_update}: {updated_user_info}\")\n",
    "except VexaClientError as e:\n",
    "    print(f\"Error updating user: {e}\")"
   ]
  }
 ],
 "metadata": {
  "kernelspec": {
   "display_name": "langchain",
   "language": "python",
   "name": "langchain"
  },
  "language_info": {
   "codemirror_mode": {
    "name": "ipython",
    "version": 3
   },
   "file_extension": ".py",
   "mimetype": "text/x-python",
   "name": "python",
   "nbconvert_exporter": "python",
   "pygments_lexer": "ipython3",
   "version": "3.11.2"
  }
 },
 "nbformat": 4,
 "nbformat_minor": 2
}
