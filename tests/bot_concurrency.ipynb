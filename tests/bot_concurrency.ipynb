{
 "cells": [
  {
   "cell_type": "markdown",
   "metadata": {},
   "source": [
    "#### imports "
   ]
  },
  {
   "cell_type": "code",
   "execution_count": 1,
   "metadata": {},
   "outputs": [],
   "source": [
    "import pandas as pd\n",
    "pd.options.display.max_colwidth = 1000\n",
    "pd.set_option('display.max_colwidth', 1000)\n",
    "pd.set_option('display.max_rows', 1000)\n",
    "pd.set_option('display.max_columns', 1000)\n",
    "pd.set_option('display.width', 1000)\n",
    "pd.set_option('display.float_format', '{:20.2f}'.format)\n",
    "pd.set_option('display.max_colwidth', 1000)\n",
    "pd.set_option('display.max_rows', 1000)\n",
    "pd.set_option('display.max_columns', 1000)\n",
    "from IPython.display import clear_output,display"
   ]
  },
  {
   "cell_type": "code",
   "execution_count": 2,
   "metadata": {},
   "outputs": [],
   "source": [
    "# Load environment variables from .env file\n",
    "from dotenv import load_dotenv\n",
    "\n",
    "# Load .env file\n",
    "load_dotenv()\n",
    "import random\n",
    "\n",
    "import os\n",
    "from vexa_client import VexaClient\n",
    "\n",
    "import os\n",
    "TOKEN = os.getenv('ADMIN_API_TOKEN')\n",
    "url = \"http://localhost:18056\"\n",
    "admin_client = VexaClient(\n",
    "    base_url=url,\n",
    "    admin_key=TOKEN  # From docker-compose.yml\n",
    ")\n",
    "\n",
    "import time\n",
    "\n",
    "def request_bot(meeting_url,language=None):\n",
    "    native_meeting_id = meeting_url.split(\"/\")[-1]  # \"xyz-abcd-123\"\n",
    "    meeting_info = client.request_bot(\n",
    "        platform=\"google_meet\",\n",
    "        native_meeting_id=native_meeting_id,\n",
    "        bot_name=\"Vexa\",\n",
    "        language=language,\n",
    "        task = 'transcribe'\n",
    "    )\n",
    "    return meeting_info\n",
    "def get_transcript(meeting_url):\n",
    "    native_meeting_id = meeting_url.split(\"/\")[-1]\n",
    "    try:\n",
    "        for _ in range(10):\n",
    "            \n",
    "                transcript = client.get_transcript(native_meeting_id=native_meeting_id,platform='google_meet')\n",
    "                df = pd.DataFrame(transcript['segments'])#.sort_values(['created_at','start'])#.drop_duplicates('start',keep='last')\n",
    "                clear_output()\n",
    "                display(df.sort_values('absolute_start_time').tail(10))\n",
    "                time.sleep(1)\n",
    "\n",
    "    except Exception as e:\n",
    "        print(e)\n",
    "\n",
    "def stop_bot(meeting_url):\n",
    "    native_meeting_id = meeting_url.split(\"/\")[-1]\n",
    "    client.stop_bot(platform=\"google_meet\",native_meeting_id=native_meeting_id)\n"
   ]
  },
  {
   "cell_type": "markdown",
   "metadata": {},
   "source": [
    "#### agenda"
   ]
  },
  {
   "cell_type": "markdown",
   "metadata": {},
   "source": [
    "#### single bot per user/meeting\n",
    "#### concurrent_bots\n",
    "1. create user with 2 concurrency\n",
    "2. start 1 bot\n",
    "3. request another bot for the same meeting immediately -> must fail\n",
    "4. first bot -> must come, admit the bot\n",
    "5. speak and test transcription\n",
    "6. launch bot for another meeting, admit the bot, check trnascription\n",
    "7. launch another bot for the third meeting -> must fail\n",
    "8. stop bot meeting 2 and and launch bot 3, but come\n",
    "\n",
    "#### stop bot works for requested and active meetings\n",
    "1 start meeting 1, stop immediately, start meeting 2 ->bot must come\n"
   ]
  },
  {
   "cell_type": "markdown",
   "metadata": {},
   "source": [
    "#### tests"
   ]
  },
  {
   "cell_type": "code",
   "execution_count": 3,
   "metadata": {},
   "outputs": [],
   "source": [
    "meeting_urls = [\"https://meet.google.com/xdy-txjo-fyh\", \n",
    "            \"https://meet.google.com/fjp-cbnn-hug\",\n",
    "            \"https://meet.google.com/wjf-bhmw-bix\"]"
   ]
  },
  {
   "cell_type": "markdown",
   "metadata": {},
   "source": [
    "##### 1. create user with 2 concurrency"
   ]
  },
  {
   "cell_type": "code",
   "execution_count": 4,
   "metadata": {},
   "outputs": [
    {
     "name": "stdout",
     "output_type": "stream",
     "text": [
      "\n",
      "DEBUG: Making POST request to http://localhost:18056/admin/users\n",
      "DEBUG: Headers: {'Content-Type': 'application/json', 'X-Admin-API-Key': 'token'}\n",
      "DEBUG: Params: None\n",
      "DEBUG: JSON data: {'email': '484002@example.com', 'name': 'test', 'max_concurrent_bots': 2}\n",
      "DEBUG: Response status: 201\n",
      "DEBUG: Response headers: {'date': 'Wed, 03 Sep 2025 13:58:56 GMT, Wed, 03 Sep 2025 13:58:56 GMT', 'server': 'uvicorn, uvicorn', 'content-length': '146', 'content-type': 'application/json'}\n",
      "DEBUG: Response content: {\"email\":\"484002@example.com\",\"name\":\"test\",\"image_url\":null,\"max_concurrent_bots\":2,\"data\":{},\"id\":123,\"created_at\":\"2025-09-03T13:58:57.147251\"}...\n",
      "\n",
      "DEBUG: Making POST request to http://localhost:18056/admin/users/123/tokens\n",
      "DEBUG: Headers: {'Content-Type': 'application/json', 'X-Admin-API-Key': 'token'}\n",
      "DEBUG: Params: None\n",
      "DEBUG: JSON data: None\n",
      "DEBUG: Response status: 201\n",
      "DEBUG: Response headers: {'date': 'Wed, 03 Sep 2025 13:58:56 GMT, Wed, 03 Sep 2025 13:58:56 GMT', 'server': 'uvicorn, uvicorn', 'content-length': '117', 'content-type': 'application/json'}\n",
      "DEBUG: Response content: {\"user_id\":123,\"id\":164,\"token\":\"lg4MiLTaQEIdpfzgSzyb9mpObCAtLwqB1vEm8O2O\",\"created_at\":\"2025-09-03T13:58:57.159717\"}...\n"
     ]
    }
   ],
   "source": [
    "\n",
    "new_user = admin_client.create_user(email=f\"{random.randint(1, 1000000)}@example.com\", \n",
    "                                    name=\"test\",\n",
    "                                    max_concurrent_bots=2)\n",
    "user_id = new_user['id']\n",
    "user_id\n",
    "token_info = admin_client.create_token(user_id=user_id)\n",
    "user_api_key = token_info['token']\n",
    "client = VexaClient(\n",
    "    base_url=url,\n",
    "    api_key=user_api_key)"
   ]
  },
  {
   "cell_type": "code",
   "execution_count": 5,
   "metadata": {},
   "outputs": [
    {
     "name": "stdout",
     "output_type": "stream",
     "text": [
      "\n",
      "DEBUG: Making POST request to http://localhost:18056/bots\n",
      "DEBUG: Headers: {'Content-Type': 'application/json', 'X-API-Key': 'lg4MiLTaQEIdpfzgSzyb9mpObCAtLwqB1vEm8O2O'}\n",
      "DEBUG: Params: None\n",
      "DEBUG: JSON data: {'platform': 'google_meet', 'native_meeting_id': 'xdy-txjo-fyh', 'bot_name': 'Vexa', 'task': 'transcribe'}\n",
      "DEBUG: Response status: 201\n",
      "DEBUG: Response headers: {'date': 'Wed, 03 Sep 2025 13:59:03 GMT, Wed, 03 Sep 2025 13:59:03 GMT', 'server': 'uvicorn, uvicorn', 'content-length': '384', 'content-type': 'application/json'}\n",
      "DEBUG: Response content: {\"id\":246,\"user_id\":123,\"platform\":\"google_meet\",\"native_meeting_id\":\"xdy-txjo-fyh\",\"constructed_meeting_url\":\"https://meet.google.com/xdy-txjo-fyh\",\"status\":\"requested\",\"bot_container_id\":\"4b77ecd17ce73fbfc1cb5ed1ae50b499933d675ccb261c739a1b8c85a5b2b55c\",\"start_time\":null,\"end_time\":null,\"data\":{},\"created_at\":\"2025-09-03T13:59:03.741186\",\"updated_at\":\"2025-09-03T13:59:03.750442\"}...\n",
      "\n",
      "DEBUG: Making POST request to http://localhost:18056/bots\n",
      "DEBUG: Headers: {'Content-Type': 'application/json', 'X-API-Key': 'lg4MiLTaQEIdpfzgSzyb9mpObCAtLwqB1vEm8O2O'}\n",
      "DEBUG: Params: None\n",
      "DEBUG: JSON data: {'platform': 'google_meet', 'native_meeting_id': 'xdy-txjo-fyh', 'bot_name': 'Vexa', 'task': 'transcribe'}\n",
      "DEBUG: Response status: 409\n",
      "DEBUG: Response headers: {'date': 'Wed, 03 Sep 2025 13:59:03 GMT, Wed, 03 Sep 2025 13:59:03 GMT', 'server': 'uvicorn, uvicorn', 'content-length': '108', 'content-type': 'application/json'}\n",
      "DEBUG: Response content: {\"detail\":\"An active or requested meeting already exists for this platform and meeting ID. Meeting ID: 246\"}...\n",
      "HTTP Error 409 for POST http://localhost:18056/bots: An active or requested meeting already exists for this platform and meeting ID. Meeting ID: 246\n"
     ]
    }
   ],
   "source": [
    "#2. start 1 bot\n",
    "request_bot(meeting_urls[0])\n",
    "#3. request another bot for the same meeting immediately (must fail)\n",
    "try:request_bot(meeting_urls[0])\n",
    "except Exception as e:\n",
    "    print(e) #An active or requested meeting already exists for this platform and meeting ID"
   ]
  },
  {
   "cell_type": "markdown",
   "metadata": {},
   "source": [
    "4. first bot must come, admit the bot and speak"
   ]
  },
  {
   "cell_type": "code",
   "execution_count": 6,
   "metadata": {},
   "outputs": [
    {
     "data": {
      "text/html": [
       "<div>\n",
       "<style scoped>\n",
       "    .dataframe tbody tr th:only-of-type {\n",
       "        vertical-align: middle;\n",
       "    }\n",
       "\n",
       "    .dataframe tbody tr th {\n",
       "        vertical-align: top;\n",
       "    }\n",
       "\n",
       "    .dataframe thead th {\n",
       "        text-align: right;\n",
       "    }\n",
       "</style>\n",
       "<table border=\"1\" class=\"dataframe\">\n",
       "  <thead>\n",
       "    <tr style=\"text-align: right;\">\n",
       "      <th></th>\n",
       "      <th>start</th>\n",
       "      <th>end</th>\n",
       "      <th>text</th>\n",
       "      <th>language</th>\n",
       "      <th>created_at</th>\n",
       "      <th>speaker</th>\n",
       "      <th>absolute_start_time</th>\n",
       "      <th>absolute_end_time</th>\n",
       "    </tr>\n",
       "  </thead>\n",
       "  <tbody>\n",
       "    <tr>\n",
       "      <th>6</th>\n",
       "      <td>12.23</td>\n",
       "      <td>14.23</td>\n",
       "      <td>Cześć, Dzień dobry.</td>\n",
       "      <td>pl</td>\n",
       "      <td>None</td>\n",
       "      <td>Dmitriy Grankin</td>\n",
       "      <td>2025-09-03T13:59:50.553106+00:00</td>\n",
       "      <td>2025-09-03T13:59:52.553106+00:00</td>\n",
       "    </tr>\n",
       "    <tr>\n",
       "      <th>7</th>\n",
       "      <td>12.53</td>\n",
       "      <td>13.00</td>\n",
       "      <td>Czau, gliano.</td>\n",
       "      <td>pl</td>\n",
       "      <td>None</td>\n",
       "      <td>Dmitriy Grankin</td>\n",
       "      <td>2025-09-03T13:59:50.853106+00:00</td>\n",
       "      <td>2025-09-03T13:59:51.325106+00:00</td>\n",
       "    </tr>\n",
       "    <tr>\n",
       "      <th>8</th>\n",
       "      <td>14.23</td>\n",
       "      <td>16.23</td>\n",
       "      <td>Nie, nie, nie.</td>\n",
       "      <td>pl</td>\n",
       "      <td>None</td>\n",
       "      <td>Dmitriy Grankin</td>\n",
       "      <td>2025-09-03T13:59:52.553106+00:00</td>\n",
       "      <td>2025-09-03T13:59:54.553106+00:00</td>\n",
       "    </tr>\n",
       "    <tr>\n",
       "      <th>9</th>\n",
       "      <td>16.23</td>\n",
       "      <td>18.23</td>\n",
       "      <td>To wszystko.</td>\n",
       "      <td>pl</td>\n",
       "      <td>None</td>\n",
       "      <td>Dmitriy Grankin</td>\n",
       "      <td>2025-09-03T13:59:54.553106+00:00</td>\n",
       "      <td>2025-09-03T13:59:56.553106+00:00</td>\n",
       "    </tr>\n",
       "    <tr>\n",
       "      <th>10</th>\n",
       "      <td>18.23</td>\n",
       "      <td>21.23</td>\n",
       "      <td>A tym bardziej, co? Przedałem?</td>\n",
       "      <td>pl</td>\n",
       "      <td>None</td>\n",
       "      <td>Dmitriy Grankin</td>\n",
       "      <td>2025-09-03T13:59:56.553106+00:00</td>\n",
       "      <td>2025-09-03T13:59:59.553106+00:00</td>\n",
       "    </tr>\n",
       "    <tr>\n",
       "      <th>11</th>\n",
       "      <td>21.23</td>\n",
       "      <td>22.23</td>\n",
       "      <td>Dwa czasy więcej?</td>\n",
       "      <td>pl</td>\n",
       "      <td>None</td>\n",
       "      <td>None</td>\n",
       "      <td>2025-09-03T13:59:59.553106+00:00</td>\n",
       "      <td>2025-09-03T14:00:00.553106+00:00</td>\n",
       "    </tr>\n",
       "    <tr>\n",
       "      <th>12</th>\n",
       "      <td>22.23</td>\n",
       "      <td>25.23</td>\n",
       "      <td>Przedajesz?</td>\n",
       "      <td>pl</td>\n",
       "      <td>None</td>\n",
       "      <td>Dmitriy Grankin</td>\n",
       "      <td>2025-09-03T14:00:00.553106+00:00</td>\n",
       "      <td>2025-09-03T14:00:03.553106+00:00</td>\n",
       "    </tr>\n",
       "    <tr>\n",
       "      <th>13</th>\n",
       "      <td>23.23</td>\n",
       "      <td>24.23</td>\n",
       "      <td>Przedałem.</td>\n",
       "      <td>pl</td>\n",
       "      <td>None</td>\n",
       "      <td>Dmitriy Grankin</td>\n",
       "      <td>2025-09-03T14:00:01.553106+00:00</td>\n",
       "      <td>2025-09-03T14:00:02.553106+00:00</td>\n",
       "    </tr>\n",
       "    <tr>\n",
       "      <th>14</th>\n",
       "      <td>25.23</td>\n",
       "      <td>27.57</td>\n",
       "      <td>Dzień dobry.</td>\n",
       "      <td>pl</td>\n",
       "      <td>None</td>\n",
       "      <td>Dmitriy Grankin</td>\n",
       "      <td>2025-09-03T14:00:03.553106+00:00</td>\n",
       "      <td>2025-09-03T14:00:05.893106+00:00</td>\n",
       "    </tr>\n",
       "    <tr>\n",
       "      <th>15</th>\n",
       "      <td>25.57</td>\n",
       "      <td>27.57</td>\n",
       "      <td>Dzień dobry.</td>\n",
       "      <td>pl</td>\n",
       "      <td>None</td>\n",
       "      <td>Dmitriy Grankin</td>\n",
       "      <td>2025-09-03T14:00:03.893106+00:00</td>\n",
       "      <td>2025-09-03T14:00:05.893106+00:00</td>\n",
       "    </tr>\n",
       "  </tbody>\n",
       "</table>\n",
       "</div>"
      ],
      "text/plain": [
       "                  start                  end                             text language created_at          speaker               absolute_start_time                 absolute_end_time\n",
       "6                 12.23                14.23              Cześć, Dzień dobry.       pl       None  Dmitriy Grankin  2025-09-03T13:59:50.553106+00:00  2025-09-03T13:59:52.553106+00:00\n",
       "7                 12.53                13.00                    Czau, gliano.       pl       None  Dmitriy Grankin  2025-09-03T13:59:50.853106+00:00  2025-09-03T13:59:51.325106+00:00\n",
       "8                 14.23                16.23                   Nie, nie, nie.       pl       None  Dmitriy Grankin  2025-09-03T13:59:52.553106+00:00  2025-09-03T13:59:54.553106+00:00\n",
       "9                 16.23                18.23                     To wszystko.       pl       None  Dmitriy Grankin  2025-09-03T13:59:54.553106+00:00  2025-09-03T13:59:56.553106+00:00\n",
       "10                18.23                21.23   A tym bardziej, co? Przedałem?       pl       None  Dmitriy Grankin  2025-09-03T13:59:56.553106+00:00  2025-09-03T13:59:59.553106+00:00\n",
       "11                21.23                22.23                Dwa czasy więcej?       pl       None             None  2025-09-03T13:59:59.553106+00:00  2025-09-03T14:00:00.553106+00:00\n",
       "12                22.23                25.23                      Przedajesz?       pl       None  Dmitriy Grankin  2025-09-03T14:00:00.553106+00:00  2025-09-03T14:00:03.553106+00:00\n",
       "13                23.23                24.23                       Przedałem.       pl       None  Dmitriy Grankin  2025-09-03T14:00:01.553106+00:00  2025-09-03T14:00:02.553106+00:00\n",
       "14                25.23                27.57                     Dzień dobry.       pl       None  Dmitriy Grankin  2025-09-03T14:00:03.553106+00:00  2025-09-03T14:00:05.893106+00:00\n",
       "15                25.57                27.57                     Dzień dobry.       pl       None  Dmitriy Grankin  2025-09-03T14:00:03.893106+00:00  2025-09-03T14:00:05.893106+00:00"
      ]
     },
     "metadata": {},
     "output_type": "display_data"
    }
   ],
   "source": [
    "time.sleep(15)\n",
    "#5. speak and test transcription\n",
    "get_transcript(meeting_urls[0])"
   ]
  },
  {
   "cell_type": "code",
   "execution_count": 7,
   "metadata": {},
   "outputs": [
    {
     "name": "stdout",
     "output_type": "stream",
     "text": [
      "\n",
      "DEBUG: Making POST request to http://localhost:18056/bots\n",
      "DEBUG: Headers: {'Content-Type': 'application/json', 'X-API-Key': 'lg4MiLTaQEIdpfzgSzyb9mpObCAtLwqB1vEm8O2O'}\n",
      "DEBUG: Params: None\n",
      "DEBUG: JSON data: {'platform': 'google_meet', 'native_meeting_id': 'fjp-cbnn-hug', 'bot_name': 'Vexa', 'task': 'transcribe'}\n",
      "DEBUG: Response status: 201\n",
      "DEBUG: Response headers: {'date': 'Wed, 03 Sep 2025 14:00:11 GMT, Wed, 03 Sep 2025 14:00:10 GMT', 'server': 'uvicorn, uvicorn', 'content-length': '384', 'content-type': 'application/json'}\n",
      "DEBUG: Response content: {\"id\":247,\"user_id\":123,\"platform\":\"google_meet\",\"native_meeting_id\":\"fjp-cbnn-hug\",\"constructed_meeting_url\":\"https://meet.google.com/fjp-cbnn-hug\",\"status\":\"requested\",\"bot_container_id\":\"0645f42e2fc7b14ece9fadeabd589b5cb73dce6f8b5b580445b7089de8cf47f8\",\"start_time\":null,\"end_time\":null,\"data\":{},\"created_at\":\"2025-09-03T14:00:11.706741\",\"updated_at\":\"2025-09-03T14:00:11.715316\"}...\n"
     ]
    },
    {
     "data": {
      "text/plain": [
       "{'id': 247,\n",
       " 'user_id': 123,\n",
       " 'platform': 'google_meet',\n",
       " 'native_meeting_id': 'fjp-cbnn-hug',\n",
       " 'constructed_meeting_url': 'https://meet.google.com/fjp-cbnn-hug',\n",
       " 'status': 'requested',\n",
       " 'bot_container_id': '0645f42e2fc7b14ece9fadeabd589b5cb73dce6f8b5b580445b7089de8cf47f8',\n",
       " 'start_time': None,\n",
       " 'end_time': None,\n",
       " 'data': {},\n",
       " 'created_at': '2025-09-03T14:00:11.706741',\n",
       " 'updated_at': '2025-09-03T14:00:11.715316'}"
      ]
     },
     "execution_count": 7,
     "metadata": {},
     "output_type": "execute_result"
    }
   ],
   "source": [
    "#6. launch bot for another meeting, admit the bot, check trnascription\n",
    "request_bot(meeting_urls[1])\n"
   ]
  },
  {
   "cell_type": "code",
   "execution_count": 10,
   "metadata": {},
   "outputs": [
    {
     "data": {
      "text/html": [
       "<div>\n",
       "<style scoped>\n",
       "    .dataframe tbody tr th:only-of-type {\n",
       "        vertical-align: middle;\n",
       "    }\n",
       "\n",
       "    .dataframe tbody tr th {\n",
       "        vertical-align: top;\n",
       "    }\n",
       "\n",
       "    .dataframe thead th {\n",
       "        text-align: right;\n",
       "    }\n",
       "</style>\n",
       "<table border=\"1\" class=\"dataframe\">\n",
       "  <thead>\n",
       "    <tr style=\"text-align: right;\">\n",
       "      <th></th>\n",
       "      <th>start</th>\n",
       "      <th>end</th>\n",
       "      <th>text</th>\n",
       "      <th>language</th>\n",
       "      <th>created_at</th>\n",
       "      <th>speaker</th>\n",
       "      <th>absolute_start_time</th>\n",
       "      <th>absolute_end_time</th>\n",
       "    </tr>\n",
       "  </thead>\n",
       "  <tbody>\n",
       "    <tr>\n",
       "      <th>0</th>\n",
       "      <td>2.14</td>\n",
       "      <td>6.14</td>\n",
       "      <td>Грин, ты всё, блин, в Черноховом озере всё равно синий шерел.</td>\n",
       "      <td>ru</td>\n",
       "      <td>None</td>\n",
       "      <td>Dmitriy Grankin</td>\n",
       "      <td>2025-09-03T14:01:16.695306+00:00</td>\n",
       "      <td>2025-09-03T14:01:20.695306+00:00</td>\n",
       "    </tr>\n",
       "    <tr>\n",
       "      <th>1</th>\n",
       "      <td>6.14</td>\n",
       "      <td>7.52</td>\n",
       "      <td>А вы всё...</td>\n",
       "      <td>ru</td>\n",
       "      <td>None</td>\n",
       "      <td>Dmitriy Grankin</td>\n",
       "      <td>2025-09-03T14:01:20.695306+00:00</td>\n",
       "      <td>2025-09-03T14:01:22.082306+00:00</td>\n",
       "    </tr>\n",
       "    <tr>\n",
       "      <th>2</th>\n",
       "      <td>6.64</td>\n",
       "      <td>8.64</td>\n",
       "      <td>А вы всё упражняетесь?</td>\n",
       "      <td>ru</td>\n",
       "      <td>None</td>\n",
       "      <td>Dmitriy Grankin</td>\n",
       "      <td>2025-09-03T14:01:21.195306+00:00</td>\n",
       "      <td>2025-09-03T14:01:23.195306+00:00</td>\n",
       "    </tr>\n",
       "    <tr>\n",
       "      <th>3</th>\n",
       "      <td>8.64</td>\n",
       "      <td>14.64</td>\n",
       "      <td>Ну всё, думаю, надеемся, что когда-нибудь ими займутся.</td>\n",
       "      <td>ru</td>\n",
       "      <td>None</td>\n",
       "      <td>Dmitriy Grankin</td>\n",
       "      <td>2025-09-03T14:01:23.195306+00:00</td>\n",
       "      <td>2025-09-03T14:01:29.195306+00:00</td>\n",
       "    </tr>\n",
       "    <tr>\n",
       "      <th>4</th>\n",
       "      <td>14.64</td>\n",
       "      <td>21.96</td>\n",
       "      <td>Все надеетесь, что им когда-нибудь займутся.</td>\n",
       "      <td>ru</td>\n",
       "      <td>None</td>\n",
       "      <td>Dmitriy Grankin</td>\n",
       "      <td>2025-09-03T14:01:29.195306+00:00</td>\n",
       "      <td>2025-09-03T14:01:36.515306+00:00</td>\n",
       "    </tr>\n",
       "    <tr>\n",
       "      <th>5</th>\n",
       "      <td>16.96</td>\n",
       "      <td>21.96</td>\n",
       "      <td>Все надеетесь, что им когда-нибудь займутся.</td>\n",
       "      <td>ru</td>\n",
       "      <td>None</td>\n",
       "      <td>Dmitriy Grankin</td>\n",
       "      <td>2025-09-03T14:01:31.515306+00:00</td>\n",
       "      <td>2025-09-03T14:01:36.515306+00:00</td>\n",
       "    </tr>\n",
       "  </tbody>\n",
       "</table>\n",
       "</div>"
      ],
      "text/plain": [
       "                 start                  end                                                            text language created_at          speaker               absolute_start_time                 absolute_end_time\n",
       "0                 2.14                 6.14   Грин, ты всё, блин, в Черноховом озере всё равно синий шерел.       ru       None  Dmitriy Grankin  2025-09-03T14:01:16.695306+00:00  2025-09-03T14:01:20.695306+00:00\n",
       "1                 6.14                 7.52                                                     А вы всё...       ru       None  Dmitriy Grankin  2025-09-03T14:01:20.695306+00:00  2025-09-03T14:01:22.082306+00:00\n",
       "2                 6.64                 8.64                                          А вы всё упражняетесь?       ru       None  Dmitriy Grankin  2025-09-03T14:01:21.195306+00:00  2025-09-03T14:01:23.195306+00:00\n",
       "3                 8.64                14.64         Ну всё, думаю, надеемся, что когда-нибудь ими займутся.       ru       None  Dmitriy Grankin  2025-09-03T14:01:23.195306+00:00  2025-09-03T14:01:29.195306+00:00\n",
       "4                14.64                21.96                    Все надеетесь, что им когда-нибудь займутся.       ru       None  Dmitriy Grankin  2025-09-03T14:01:29.195306+00:00  2025-09-03T14:01:36.515306+00:00\n",
       "5                16.96                21.96                    Все надеетесь, что им когда-нибудь займутся.       ru       None  Dmitriy Grankin  2025-09-03T14:01:31.515306+00:00  2025-09-03T14:01:36.515306+00:00"
      ]
     },
     "metadata": {},
     "output_type": "display_data"
    }
   ],
   "source": [
    "time.sleep(15)\n",
    "get_transcript(meeting_urls[1])"
   ]
  },
  {
   "cell_type": "code",
   "execution_count": 11,
   "metadata": {},
   "outputs": [
    {
     "name": "stdout",
     "output_type": "stream",
     "text": [
      "\n",
      "DEBUG: Making POST request to http://localhost:18056/bots\n",
      "DEBUG: Headers: {'Content-Type': 'application/json', 'X-API-Key': 'lg4MiLTaQEIdpfzgSzyb9mpObCAtLwqB1vEm8O2O'}\n",
      "DEBUG: Params: None\n",
      "DEBUG: JSON data: {'platform': 'google_meet', 'native_meeting_id': 'wjf-bhmw-bix', 'bot_name': 'Vexa', 'task': 'transcribe'}\n",
      "DEBUG: Response status: 403\n",
      "DEBUG: Response headers: {'date': 'Wed, 03 Sep 2025 14:01:45 GMT, Wed, 03 Sep 2025 14:01:46 GMT', 'server': 'uvicorn, uvicorn', 'content-length': '67', 'content-type': 'application/json'}\n",
      "DEBUG: Response content: {\"detail\":\"User has reached the maximum concurrent bot limit (2).\"}...\n",
      "HTTP Error 403 for POST http://localhost:18056/bots: User has reached the maximum concurrent bot limit (2).\n"
     ]
    }
   ],
   "source": [
    "#7. launch another bot for the third meeting -> must fail\n",
    "try:request_bot(meeting_urls[2])\n",
    "except Exception as e:\n",
    "    print(e) #User has reached the maximum concurrent bot limit (2)."
   ]
  },
  {
   "cell_type": "code",
   "execution_count": 12,
   "metadata": {},
   "outputs": [
    {
     "name": "stdout",
     "output_type": "stream",
     "text": [
      "\n",
      "DEBUG: Making DELETE request to http://localhost:18056/bots/google_meet/fjp-cbnn-hug\n",
      "DEBUG: Headers: {'Content-Type': 'application/json', 'X-API-Key': 'lg4MiLTaQEIdpfzgSzyb9mpObCAtLwqB1vEm8O2O'}\n",
      "DEBUG: Params: None\n",
      "DEBUG: JSON data: None\n",
      "DEBUG: Response status: 202\n",
      "DEBUG: Response headers: {'date': 'Wed, 03 Sep 2025 14:01:51 GMT, Wed, 03 Sep 2025 14:01:51 GMT', 'server': 'uvicorn, uvicorn', 'content-length': '59', 'content-type': 'application/json'}\n",
      "DEBUG: Response content: {\"message\":\"Stop request accepted and is being processed.\"}...\n",
      "\n",
      "DEBUG: Making POST request to http://localhost:18056/bots\n",
      "DEBUG: Headers: {'Content-Type': 'application/json', 'X-API-Key': 'lg4MiLTaQEIdpfzgSzyb9mpObCAtLwqB1vEm8O2O'}\n",
      "DEBUG: Params: None\n",
      "DEBUG: JSON data: {'platform': 'google_meet', 'native_meeting_id': 'wjf-bhmw-bix', 'bot_name': 'Vexa', 'task': 'transcribe'}\n",
      "DEBUG: Response status: 201\n",
      "DEBUG: Response headers: {'date': 'Wed, 03 Sep 2025 14:01:51 GMT, Wed, 03 Sep 2025 14:01:51 GMT', 'server': 'uvicorn, uvicorn', 'content-length': '384', 'content-type': 'application/json'}\n",
      "DEBUG: Response content: {\"id\":248,\"user_id\":123,\"platform\":\"google_meet\",\"native_meeting_id\":\"wjf-bhmw-bix\",\"constructed_meeting_url\":\"https://meet.google.com/wjf-bhmw-bix\",\"status\":\"requested\",\"bot_container_id\":\"bb4e21fac7cc692677b687c93617f18b7ea26889e6567b578a7e54d1431cacb9\",\"start_time\":null,\"end_time\":null,\"data\":{},\"created_at\":\"2025-09-03T14:01:51.740542\",\"updated_at\":\"2025-09-03T14:01:51.747629\"}...\n"
     ]
    },
    {
     "data": {
      "text/plain": [
       "{'id': 248,\n",
       " 'user_id': 123,\n",
       " 'platform': 'google_meet',\n",
       " 'native_meeting_id': 'wjf-bhmw-bix',\n",
       " 'constructed_meeting_url': 'https://meet.google.com/wjf-bhmw-bix',\n",
       " 'status': 'requested',\n",
       " 'bot_container_id': 'bb4e21fac7cc692677b687c93617f18b7ea26889e6567b578a7e54d1431cacb9',\n",
       " 'start_time': None,\n",
       " 'end_time': None,\n",
       " 'data': {},\n",
       " 'created_at': '2025-09-03T14:01:51.740542',\n",
       " 'updated_at': '2025-09-03T14:01:51.747629'}"
      ]
     },
     "execution_count": 12,
     "metadata": {},
     "output_type": "execute_result"
    }
   ],
   "source": [
    "#8. stop bot meeting 2 and and launch bot 3, but come\n",
    "stop_bot(meeting_urls[1])\n",
    "request_bot(meeting_urls[2])"
   ]
  },
  {
   "cell_type": "code",
   "execution_count": 14,
   "metadata": {},
   "outputs": [
    {
     "data": {
      "text/html": [
       "<div>\n",
       "<style scoped>\n",
       "    .dataframe tbody tr th:only-of-type {\n",
       "        vertical-align: middle;\n",
       "    }\n",
       "\n",
       "    .dataframe tbody tr th {\n",
       "        vertical-align: top;\n",
       "    }\n",
       "\n",
       "    .dataframe thead th {\n",
       "        text-align: right;\n",
       "    }\n",
       "</style>\n",
       "<table border=\"1\" class=\"dataframe\">\n",
       "  <thead>\n",
       "    <tr style=\"text-align: right;\">\n",
       "      <th></th>\n",
       "      <th>start</th>\n",
       "      <th>end</th>\n",
       "      <th>text</th>\n",
       "      <th>language</th>\n",
       "      <th>created_at</th>\n",
       "      <th>speaker</th>\n",
       "      <th>absolute_start_time</th>\n",
       "      <th>absolute_end_time</th>\n",
       "    </tr>\n",
       "  </thead>\n",
       "  <tbody>\n",
       "    <tr>\n",
       "      <th>0</th>\n",
       "      <td>0.00</td>\n",
       "      <td>2.28</td>\n",
       "      <td>three, four, five six, seven eight nine ten.</td>\n",
       "      <td>en</td>\n",
       "      <td>None</td>\n",
       "      <td>Dmitriy Grankin</td>\n",
       "      <td>2025-09-03T14:02:16.378812+00:00</td>\n",
       "      <td>2025-09-03T14:02:18.658812+00:00</td>\n",
       "    </tr>\n",
       "    <tr>\n",
       "      <th>1</th>\n",
       "      <td>2.28</td>\n",
       "      <td>4.22</td>\n",
       "      <td>One, two, three, four, five six,</td>\n",
       "      <td>en</td>\n",
       "      <td>None</td>\n",
       "      <td>Dmitriy Grankin</td>\n",
       "      <td>2025-09-03T14:02:18.658812+00:00</td>\n",
       "      <td>2025-09-03T14:02:20.598812+00:00</td>\n",
       "    </tr>\n",
       "    <tr>\n",
       "      <th>2</th>\n",
       "      <td>4.22</td>\n",
       "      <td>5.84</td>\n",
       "      <td>seven eight nine ten.</td>\n",
       "      <td>en</td>\n",
       "      <td>None</td>\n",
       "      <td>Dmitriy Grankin</td>\n",
       "      <td>2025-09-03T14:02:20.598812+00:00</td>\n",
       "      <td>2025-09-03T14:02:22.218812+00:00</td>\n",
       "    </tr>\n",
       "    <tr>\n",
       "      <th>3</th>\n",
       "      <td>5.84</td>\n",
       "      <td>10.60</td>\n",
       "      <td>1 2 3 4 5 6 7 8 9 10</td>\n",
       "      <td>en</td>\n",
       "      <td>None</td>\n",
       "      <td>Dmitriy Grankin</td>\n",
       "      <td>2025-09-03T14:02:22.218812+00:00</td>\n",
       "      <td>2025-09-03T14:02:26.978812+00:00</td>\n",
       "    </tr>\n",
       "    <tr>\n",
       "      <th>4</th>\n",
       "      <td>10.60</td>\n",
       "      <td>14.60</td>\n",
       "      <td>1 2 3 4 5 6 7 8 9 10</td>\n",
       "      <td>en</td>\n",
       "      <td>None</td>\n",
       "      <td>Dmitriy Grankin</td>\n",
       "      <td>2025-09-03T14:02:26.978812+00:00</td>\n",
       "      <td>2025-09-03T14:02:30.978812+00:00</td>\n",
       "    </tr>\n",
       "    <tr>\n",
       "      <th>5</th>\n",
       "      <td>14.60</td>\n",
       "      <td>15.60</td>\n",
       "      <td>10 8</td>\n",
       "      <td>en</td>\n",
       "      <td>None</td>\n",
       "      <td>Dmitriy Grankin</td>\n",
       "      <td>2025-09-03T14:02:30.978812+00:00</td>\n",
       "      <td>2025-09-03T14:02:31.978812+00:00</td>\n",
       "    </tr>\n",
       "    <tr>\n",
       "      <th>6</th>\n",
       "      <td>14.68</td>\n",
       "      <td>18.32</td>\n",
       "      <td>10-8-7-8</td>\n",
       "      <td>en</td>\n",
       "      <td>None</td>\n",
       "      <td>Dmitriy Grankin</td>\n",
       "      <td>2025-09-03T14:02:31.058812+00:00</td>\n",
       "      <td>2025-09-03T14:02:34.698812+00:00</td>\n",
       "    </tr>\n",
       "  </tbody>\n",
       "</table>\n",
       "</div>"
      ],
      "text/plain": [
       "                 start                  end                                           text language created_at          speaker               absolute_start_time                 absolute_end_time\n",
       "0                 0.00                 2.28   three, four, five six, seven eight nine ten.       en       None  Dmitriy Grankin  2025-09-03T14:02:16.378812+00:00  2025-09-03T14:02:18.658812+00:00\n",
       "1                 2.28                 4.22               One, two, three, four, five six,       en       None  Dmitriy Grankin  2025-09-03T14:02:18.658812+00:00  2025-09-03T14:02:20.598812+00:00\n",
       "2                 4.22                 5.84                          seven eight nine ten.       en       None  Dmitriy Grankin  2025-09-03T14:02:20.598812+00:00  2025-09-03T14:02:22.218812+00:00\n",
       "3                 5.84                10.60                           1 2 3 4 5 6 7 8 9 10       en       None  Dmitriy Grankin  2025-09-03T14:02:22.218812+00:00  2025-09-03T14:02:26.978812+00:00\n",
       "4                10.60                14.60                           1 2 3 4 5 6 7 8 9 10       en       None  Dmitriy Grankin  2025-09-03T14:02:26.978812+00:00  2025-09-03T14:02:30.978812+00:00\n",
       "5                14.60                15.60                                           10 8       en       None  Dmitriy Grankin  2025-09-03T14:02:30.978812+00:00  2025-09-03T14:02:31.978812+00:00\n",
       "6                14.68                18.32                                       10-8-7-8       en       None  Dmitriy Grankin  2025-09-03T14:02:31.058812+00:00  2025-09-03T14:02:34.698812+00:00"
      ]
     },
     "metadata": {},
     "output_type": "display_data"
    }
   ],
   "source": [
    "time.sleep(15)\n",
    "get_transcript(meeting_urls[2])"
   ]
  },
  {
   "cell_type": "code",
   "execution_count": 15,
   "metadata": {},
   "outputs": [
    {
     "name": "stdout",
     "output_type": "stream",
     "text": [
      "\n",
      "DEBUG: Making GET request to http://localhost:18056/bots/status\n",
      "DEBUG: Headers: {'Content-Type': 'application/json', 'X-API-Key': 'lg4MiLTaQEIdpfzgSzyb9mpObCAtLwqB1vEm8O2O'}\n",
      "DEBUG: Params: None\n",
      "DEBUG: JSON data: None\n",
      "DEBUG: Response status: 200\n",
      "DEBUG: Response headers: {'date': 'Wed, 03 Sep 2025 14:02:41 GMT, Wed, 03 Sep 2025 14:02:42 GMT', 'server': 'uvicorn, uvicorn', 'content-length': '867', 'content-type': 'application/json'}\n",
      "DEBUG: Response content: {\"running_bots\":[{\"container_id\":\"bb4e21fac7cc692677b687c93617f18b7ea26889e6567b578a7e54d1431cacb9\",\"container_name\":\"vexa-bot-248-d29af80a\",\"platform\":\"google_meet\",\"native_meeting_id\":\"wjf-bhmw-bix\",\"status\":\"Up 50 seconds\",\"normalized_status\":\"Up\",\"created_at\":\"2025-09-03T14:01:51+00:00\",\"labels\":{\"org.opencontainers.image.ref.name\":\"ubuntu\",\"org.opencontainers.image.version\":\"22.04\",\"vexa.user_id\":\"123\"},\"meeting_id_from_name\":\"248\"},{\"container_id\":\"4b77ecd17ce73fbfc1cb5ed1ae50b499933d675cc...\n"
     ]
    },
    {
     "data": {
      "text/plain": [
       "2"
      ]
     },
     "execution_count": 15,
     "metadata": {},
     "output_type": "execute_result"
    }
   ],
   "source": [
    "running_bots = client.get_running_bots_status()\n",
    "len(running_bots) #should be 2\n"
   ]
  },
  {
   "cell_type": "code",
   "execution_count": 16,
   "metadata": {},
   "outputs": [
    {
     "data": {
      "text/plain": [
       "[{'container_id': 'bb4e21fac7cc692677b687c93617f18b7ea26889e6567b578a7e54d1431cacb9',\n",
       "  'container_name': 'vexa-bot-248-d29af80a',\n",
       "  'platform': 'google_meet',\n",
       "  'native_meeting_id': 'wjf-bhmw-bix',\n",
       "  'status': 'Up 50 seconds',\n",
       "  'normalized_status': 'Up',\n",
       "  'created_at': '2025-09-03T14:01:51+00:00',\n",
       "  'labels': {'org.opencontainers.image.ref.name': 'ubuntu',\n",
       "   'org.opencontainers.image.version': '22.04',\n",
       "   'vexa.user_id': '123'},\n",
       "  'meeting_id_from_name': '248'},\n",
       " {'container_id': '4b77ecd17ce73fbfc1cb5ed1ae50b499933d675ccb261c739a1b8c85a5b2b55c',\n",
       "  'container_name': 'vexa-bot-246-7c72d729',\n",
       "  'platform': 'google_meet',\n",
       "  'native_meeting_id': 'xdy-txjo-fyh',\n",
       "  'status': 'Up 3 minutes',\n",
       "  'normalized_status': 'Up',\n",
       "  'created_at': '2025-09-03T13:59:03+00:00',\n",
       "  'labels': {'org.opencontainers.image.ref.name': 'ubuntu',\n",
       "   'org.opencontainers.image.version': '22.04',\n",
       "   'vexa.user_id': '123'},\n",
       "  'meeting_id_from_name': '246'}]"
      ]
     },
     "execution_count": 16,
     "metadata": {},
     "output_type": "execute_result"
    }
   ],
   "source": [
    "running_bots"
   ]
  },
  {
   "cell_type": "code",
   "execution_count": 18,
   "metadata": {},
   "outputs": [
    {
     "name": "stdout",
     "output_type": "stream",
     "text": [
      "\n",
      "DEBUG: Making GET request to http://localhost:18056/meetings\n",
      "DEBUG: Headers: {'Content-Type': 'application/json', 'X-API-Key': 'lg4MiLTaQEIdpfzgSzyb9mpObCAtLwqB1vEm8O2O'}\n",
      "DEBUG: Params: None\n",
      "DEBUG: JSON data: None\n",
      "DEBUG: Response status: 200\n",
      "DEBUG: Response headers: {'date': 'Wed, 03 Sep 2025 14:02:44 GMT, Wed, 03 Sep 2025 14:02:45 GMT', 'server': 'uvicorn, uvicorn', 'content-length': '1183', 'content-type': 'application/json'}\n",
      "DEBUG: Response content: {\"meetings\":[{\"id\":248,\"user_id\":123,\"platform\":\"google_meet\",\"native_meeting_id\":\"wjf-bhmw-bix\",\"constructed_meeting_url\":\"https://meet.google.com/wjf-bhmw-bix\",\"status\":\"active\",\"bot_container_id\":\"vexa-bot-248-d29af80a\",\"start_time\":\"2025-09-03T14:02:15.221559\",\"end_time\":null,\"data\":{},\"created_at\":\"2025-09-03T14:01:51.740542\",\"updated_at\":\"2025-09-03T14:02:15.219386\"},{\"id\":247,\"user_id\":123,\"platform\":\"google_meet\",\"native_meeting_id\":\"fjp-cbnn-hug\",\"constructed_meeting_url\":\"https://meet....\n"
     ]
    },
    {
     "data": {
      "text/plain": [
       "True"
      ]
     },
     "execution_count": 18,
     "metadata": {},
     "output_type": "execute_result"
    }
   ],
   "source": [
    "meetings = client.get_meetings()\n",
    "[m['status'] for m in meetings] == ['active', 'completed', 'active']"
   ]
  },
  {
   "cell_type": "code",
   "execution_count": 19,
   "metadata": {},
   "outputs": [
    {
     "name": "stdout",
     "output_type": "stream",
     "text": [
      "\n",
      "DEBUG: Making DELETE request to http://localhost:18056/bots/google_meet/xdy-txjo-fyh\n",
      "DEBUG: Headers: {'Content-Type': 'application/json', 'X-API-Key': 'lg4MiLTaQEIdpfzgSzyb9mpObCAtLwqB1vEm8O2O'}\n",
      "DEBUG: Params: None\n",
      "DEBUG: JSON data: None\n",
      "DEBUG: Response status: 202\n",
      "DEBUG: Response headers: {'date': 'Wed, 03 Sep 2025 14:02:47 GMT, Wed, 03 Sep 2025 14:02:47 GMT', 'server': 'uvicorn, uvicorn', 'content-length': '59', 'content-type': 'application/json'}\n",
      "DEBUG: Response content: {\"message\":\"Stop request accepted and is being processed.\"}...\n",
      "\n",
      "DEBUG: Making DELETE request to http://localhost:18056/bots/google_meet/fjp-cbnn-hug\n",
      "DEBUG: Headers: {'Content-Type': 'application/json', 'X-API-Key': 'lg4MiLTaQEIdpfzgSzyb9mpObCAtLwqB1vEm8O2O'}\n",
      "DEBUG: Params: None\n",
      "DEBUG: JSON data: None\n",
      "DEBUG: Response status: 404\n",
      "DEBUG: Response headers: {'date': 'Wed, 03 Sep 2025 14:02:47 GMT, Wed, 03 Sep 2025 14:02:47 GMT', 'server': 'uvicorn, uvicorn', 'content-length': '38', 'content-type': 'application/json'}\n",
      "DEBUG: Response content: {\"detail\":\"No meeting found to stop.\"}...\n",
      "HTTP Error 404 for DELETE http://localhost:18056/bots/google_meet/fjp-cbnn-hug: No meeting found to stop.\n",
      "\n",
      "DEBUG: Making DELETE request to http://localhost:18056/bots/google_meet/wjf-bhmw-bix\n",
      "DEBUG: Headers: {'Content-Type': 'application/json', 'X-API-Key': 'lg4MiLTaQEIdpfzgSzyb9mpObCAtLwqB1vEm8O2O'}\n",
      "DEBUG: Params: None\n",
      "DEBUG: JSON data: None\n",
      "DEBUG: Response status: 202\n",
      "DEBUG: Response headers: {'date': 'Wed, 03 Sep 2025 14:02:47 GMT, Wed, 03 Sep 2025 14:02:47 GMT', 'server': 'uvicorn, uvicorn', 'content-length': '59', 'content-type': 'application/json'}\n",
      "DEBUG: Response content: {\"message\":\"Stop request accepted and is being processed.\"}...\n"
     ]
    }
   ],
   "source": [
    "for m in meeting_urls:\n",
    "    try:stop_bot(m)\n",
    "    except Exception as e:\n",
    "        print(e)"
   ]
  },
  {
   "cell_type": "code",
   "execution_count": 20,
   "metadata": {},
   "outputs": [
    {
     "name": "stdout",
     "output_type": "stream",
     "text": [
      "\n",
      "DEBUG: Making GET request to http://localhost:18056/meetings\n",
      "DEBUG: Headers: {'Content-Type': 'application/json', 'X-API-Key': 'lg4MiLTaQEIdpfzgSzyb9mpObCAtLwqB1vEm8O2O'}\n",
      "DEBUG: Params: None\n",
      "DEBUG: JSON data: None\n",
      "DEBUG: Response status: 200\n",
      "DEBUG: Response headers: {'date': 'Wed, 03 Sep 2025 14:02:50 GMT, Wed, 03 Sep 2025 14:02:50 GMT', 'server': 'uvicorn, uvicorn', 'content-length': '1343', 'content-type': 'application/json'}\n",
      "DEBUG: Response content: {\"meetings\":[{\"id\":248,\"user_id\":123,\"platform\":\"google_meet\",\"native_meeting_id\":\"wjf-bhmw-bix\",\"constructed_meeting_url\":\"https://meet.google.com/wjf-bhmw-bix\",\"status\":\"completed\",\"bot_container_id\":\"vexa-bot-248-d29af80a\",\"start_time\":\"2025-09-03T14:02:15.221559\",\"end_time\":\"2025-09-03T14:02:49.424428\",\"data\":{\"languages\":[\"en\"],\"participants\":[\"Dmitriy Grankin\"]},\"created_at\":\"2025-09-03T14:01:51.740542\",\"updated_at\":\"2025-09-03T14:02:49.430038\"},{\"id\":247,\"user_id\":123,\"platform\":\"google_m...\n"
     ]
    },
    {
     "data": {
      "text/plain": [
       "True"
      ]
     },
     "execution_count": 20,
     "metadata": {},
     "output_type": "execute_result"
    }
   ],
   "source": [
    "meetings = client.get_meetings()\n",
    "[m['status'] for m in meetings] == ['completed', 'completed', 'completed']"
   ]
  }
 ],
 "metadata": {
  "kernelspec": {
   "display_name": "vexa",
   "language": "python",
   "name": "python3"
  },
  "language_info": {
   "codemirror_mode": {
    "name": "ipython",
    "version": 3
   },
   "file_extension": ".py",
   "mimetype": "text/x-python",
   "name": "python",
   "nbconvert_exporter": "python",
   "pygments_lexer": "ipython3",
   "version": "3.11.10"
  }
 },
 "nbformat": 4,
 "nbformat_minor": 2
}
