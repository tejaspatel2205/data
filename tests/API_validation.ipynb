{
 "cells": [
  {
   "cell_type": "code",
   "execution_count": 3,
   "metadata": {},
   "outputs": [],
   "source": [
    "import pandas as pd\n",
    "pd.options.display.max_colwidth = 1000\n",
    "pd.set_option('display.max_colwidth', 1000)\n",
    "pd.set_option('display.max_rows', 1000)\n",
    "pd.set_option('display.max_columns', 1000)\n",
    "pd.set_option('display.width', 1000)\n",
    "pd.set_option('display.float_format', '{:20.2f}'.format)\n",
    "pd.set_option('display.max_colwidth', 1000)\n",
    "pd.set_option('display.max_rows', 1000)\n",
    "pd.set_option('display.max_columns', 1000)\n",
    "from IPython.display import clear_output,display"
   ]
  },
  {
   "cell_type": "code",
   "execution_count": 4,
   "metadata": {},
   "outputs": [],
   "source": [
    "# Load environment variables from .env file\n",
    "from dotenv import load_dotenv\n",
    "\n",
    "# Load .env file\n",
    "load_dotenv()\n",
    "import random\n",
    "\n",
    "import os\n",
    "from vexa_client import VexaClient\n",
    "\n",
    "import os\n",
    "TOKEN = os.getenv('ADMIN_API_TOKEN')\n",
    "url = \"http://localhost:18056\"\n",
    "admin_client = VexaClient(\n",
    "    base_url=url,\n",
    "    admin_key=TOKEN  # From docker-compose.yml\n",
    ")\n",
    "\n",
    "import time"
   ]
  },
  {
   "cell_type": "code",
   "execution_count": 5,
   "metadata": {},
   "outputs": [
    {
     "name": "stdout",
     "output_type": "stream",
     "text": [
      "\n",
      "DEBUG: Making POST request to http://localhost:18056/admin/users\n",
      "DEBUG: Headers: {'Content-Type': 'application/json', 'X-Admin-API-Key': 'token'}\n",
      "DEBUG: Params: None\n",
      "DEBUG: JSON data: {'email': '505959@example.com', 'name': 'test', 'max_concurrent_bots': 1}\n",
      "DEBUG: Response status: 201\n",
      "DEBUG: Response headers: {'date': 'Wed, 03 Sep 2025 13:53:46 GMT, Wed, 03 Sep 2025 13:53:47 GMT', 'server': 'uvicorn, uvicorn', 'content-length': '146', 'content-type': 'application/json'}\n",
      "DEBUG: Response content: {\"email\":\"505959@example.com\",\"name\":\"test\",\"image_url\":null,\"max_concurrent_bots\":1,\"data\":{},\"id\":122,\"created_at\":\"2025-09-03T13:53:47.731455\"}...\n"
     ]
    }
   ],
   "source": [
    "new_user = admin_client.create_user(email=f\"{random.randint(1, 1000000)}@example.com\", \n",
    "                                    name=\"test\",\n",
    "                                    max_concurrent_bots=1)\n"
   ]
  },
  {
   "cell_type": "code",
   "execution_count": 6,
   "metadata": {},
   "outputs": [
    {
     "name": "stdout",
     "output_type": "stream",
     "text": [
      "\n",
      "DEBUG: Making POST request to http://localhost:18056/admin/users/122/tokens\n",
      "DEBUG: Headers: {'Content-Type': 'application/json', 'X-Admin-API-Key': 'token'}\n",
      "DEBUG: Params: None\n",
      "DEBUG: JSON data: None\n",
      "DEBUG: Response status: 201\n",
      "DEBUG: Response headers: {'date': 'Wed, 03 Sep 2025 13:53:47 GMT, Wed, 03 Sep 2025 13:53:47 GMT', 'server': 'uvicorn, uvicorn', 'content-length': '117', 'content-type': 'application/json'}\n",
      "DEBUG: Response content: {\"user_id\":122,\"id\":163,\"token\":\"mg1QOAweSfrjZIX2zl4wk5oPjNsploCzwWlFdhfS\",\"created_at\":\"2025-09-03T13:53:48.550088\"}...\n"
     ]
    }
   ],
   "source": [
    "\n",
    "user_id = new_user['id']\n",
    "user_id\n",
    "token_info = admin_client.create_token(user_id=user_id)\n",
    "user_api_key = token_info['token']\n",
    "client = VexaClient(\n",
    "    base_url=url,\n",
    "    api_key=user_api_key\n",
    ")"
   ]
  },
  {
   "cell_type": "code",
   "execution_count": 7,
   "metadata": {},
   "outputs": [],
   "source": [
    "### API endpoints validate against the schemas"
   ]
  },
  {
   "cell_type": "code",
   "execution_count": 8,
   "metadata": {},
   "outputs": [
    {
     "name": "stdout",
     "output_type": "stream",
     "text": [
      "\n",
      "DEBUG: Making PUT request to http://localhost:18056/user/webhook\n",
      "DEBUG: Headers: {'Content-Type': 'application/json', 'X-API-Key': 'mg1QOAweSfrjZIX2zl4wk5oPjNsploCzwWlFdhfS'}\n",
      "DEBUG: Params: None\n",
      "DEBUG: JSON data: {'webhook_url': 'https://webhook-test.com/e79be735cf3e9bc0c98ca068beaac1f3'}\n",
      "DEBUG: Response status: 200\n",
      "DEBUG: Response headers: {'date': 'Wed, 03 Sep 2025 13:53:50 GMT, Wed, 03 Sep 2025 13:53:50 GMT', 'server': 'uvicorn, uvicorn', 'content-length': '219', 'content-type': 'application/json'}\n",
      "DEBUG: Response content: {\"email\":\"505959@example.com\",\"name\":\"test\",\"image_url\":null,\"max_concurrent_bots\":1,\"data\":{\"webhook_url\":\"https://webhook-test.com/e79be735cf3e9bc0c98ca068beaac1f3\"},\"id\":122,\"created_at\":\"2025-09-03T13:53:47.731455\"}...\n"
     ]
    },
    {
     "data": {
      "text/plain": [
       "{'email': '505959@example.com',\n",
       " 'name': 'test',\n",
       " 'image_url': None,\n",
       " 'max_concurrent_bots': 1,\n",
       " 'data': {'webhook_url': 'https://webhook-test.com/e79be735cf3e9bc0c98ca068beaac1f3'},\n",
       " 'id': 122,\n",
       " 'created_at': '2025-09-03T13:53:47.731455'}"
      ]
     },
     "execution_count": 8,
     "metadata": {},
     "output_type": "execute_result"
    }
   ],
   "source": [
    "client.set_webhook_url(\"https://webhook-test.com/e79be735cf3e9bc0c98ca068beaac1f3\")"
   ]
  },
  {
   "cell_type": "code",
   "execution_count": 9,
   "metadata": {},
   "outputs": [
    {
     "data": {
      "text/plain": [
       "'mg1QOAweSfrjZIX2zl4wk5oPjNsploCzwWlFdhfS'"
      ]
     },
     "execution_count": 9,
     "metadata": {},
     "output_type": "execute_result"
    }
   ],
   "source": [
    "user_api_key"
   ]
  },
  {
   "cell_type": "code",
   "execution_count": 10,
   "metadata": {},
   "outputs": [],
   "source": [
    "\n",
    "meeting_url=\"https://meet.google.com/fjp-cbnn-hug\"\n",
    "native_meeting_id = meeting_url.split(\"/\")[-1]  # \"xyz-abcd-123\""
   ]
  },
  {
   "cell_type": "markdown",
   "metadata": {},
   "source": [
    "### request bot"
   ]
  },
  {
   "cell_type": "code",
   "execution_count": 11,
   "metadata": {},
   "outputs": [
    {
     "name": "stdout",
     "output_type": "stream",
     "text": [
      "\n",
      "DEBUG: Making POST request to http://localhost:18056/bots\n",
      "DEBUG: Headers: {'Content-Type': 'application/json', 'X-API-Key': 'mg1QOAweSfrjZIX2zl4wk5oPjNsploCzwWlFdhfS'}\n",
      "DEBUG: Params: None\n",
      "DEBUG: JSON data: {'platform': 'wrong platform', 'native_meeting_id': 'fjp-cbnn-hug', 'bot_name': \"Vexa's bot\", 'language': 'es', 'task': 'transcribe'}\n",
      "DEBUG: Response status: 422\n",
      "DEBUG: Response headers: {'date': 'Wed, 03 Sep 2025 13:54:06 GMT, Wed, 03 Sep 2025 13:54:06 GMT', 'server': 'uvicorn, uvicorn', 'content-length': '209', 'content-type': 'application/json'}\n",
      "DEBUG: Response content: {\"detail\":[{\"loc\":[\"body\",\"platform\"],\"msg\":\"value is not a valid enumeration member; permitted: 'google_meet', 'zoom', 'teams'\",\"type\":\"type_error.enum\",\"ctx\":{\"enum_values\":[\"google_meet\",\"zoom\",\"teams\"]}}]}...\n",
      "HTTP Error 422 for POST http://localhost:18056/bots: [{'loc': ['body', 'platform'], 'msg': \"value is not a valid enumeration member; permitted: 'google_meet', 'zoom', 'teams'\", 'type': 'type_error.enum', 'ctx': {'enum_values': ['google_meet', 'zoom', 'teams']}}]\n"
     ]
    }
   ],
   "source": [
    "# wrong platform\n",
    "try:\n",
    "    meeting_info = client.request_bot(\n",
    "        platform=\"wrong platform\",\n",
    "        native_meeting_id=native_meeting_id,\n",
    "        bot_name=\"Vexa's bot\",\n",
    "        language='es',\n",
    "        task = 'transcribe'\n",
    "    )\n",
    "except Exception as e:\n",
    "    print(e)\n",
    "#'msg': \"value is not a valid enumeration member; permitted: 'google_meet', 'zoom', 'teams'\""
   ]
  },
  {
   "cell_type": "code",
   "execution_count": 13,
   "metadata": {},
   "outputs": [
    {
     "name": "stdout",
     "output_type": "stream",
     "text": [
      "\n",
      "DEBUG: Making POST request to http://localhost:18056/bots\n",
      "DEBUG: Headers: {'Content-Type': 'application/json', 'X-API-Key': 'mg1QOAweSfrjZIX2zl4wk5oPjNsploCzwWlFdhfS'}\n",
      "DEBUG: Params: None\n",
      "DEBUG: JSON data: {'platform': 'zoom', 'native_meeting_id': 'fjp-cbnn-hug', 'bot_name': \"Vexa's bot\", 'language': 'es', 'task': 'transcribe'}\n",
      "DEBUG: Response status: 422\n",
      "DEBUG: Response headers: {'date': 'Wed, 03 Sep 2025 13:54:12 GMT, Wed, 03 Sep 2025 13:54:12 GMT', 'server': 'uvicorn, uvicorn', 'content-length': '89', 'content-type': 'application/json'}\n",
      "DEBUG: Response content: {\"detail\":\"Invalid platform/native_meeting_id combination: cannot construct meeting URL\"}...\n",
      "HTTP Error 422 for POST http://localhost:18056/bots: Invalid platform/native_meeting_id combination: cannot construct meeting URL\n"
     ]
    }
   ],
   "source": [
    "# wrong platform\n",
    "try:\n",
    "    meeting_info = client.request_bot(\n",
    "        platform=\"zoom\",\n",
    "        native_meeting_id=native_meeting_id,\n",
    "        bot_name=\"Vexa's bot\",\n",
    "        language='es',\n",
    "        task = 'transcribe'\n",
    "    )\n",
    "except Exception as e:\n",
    "    print(e)\n",
    "#'msg': \"HTTP Error 422 for POST http://localhost:18056/bots: Invalid platform/native_meeting_id combination: cannot construct meeting URL\""
   ]
  },
  {
   "cell_type": "code",
   "execution_count": 14,
   "metadata": {},
   "outputs": [
    {
     "name": "stdout",
     "output_type": "stream",
     "text": [
      "\n",
      "DEBUG: Making POST request to http://localhost:18056/bots\n",
      "DEBUG: Headers: {'Content-Type': 'application/json', 'X-API-Key': 'mg1QOAweSfrjZIX2zl4wk5oPjNsploCzwWlFdhfS'}\n",
      "DEBUG: Params: None\n",
      "DEBUG: JSON data: {'platform': 'google_meet', 'native_meeting_id': 'fjp-cbnn-hug', 'bot_name': \"Vexa's bot\", 'language': 'wrong language', 'task': 'transcribe'}\n",
      "DEBUG: Response status: 422\n",
      "DEBUG: Response headers: {'date': 'Wed, 03 Sep 2025 13:54:12 GMT, Wed, 03 Sep 2025 13:54:12 GMT', 'server': 'uvicorn, uvicorn', 'content-length': '728', 'content-type': 'application/json'}\n",
      "DEBUG: Response content: {\"detail\":[{\"loc\":[\"body\",\"language\"],\"msg\":\"Invalid language code 'wrong language'. Must be one of: ['af', 'am', 'ar', 'as', 'az', 'ba', 'be', 'bg', 'bn', 'bo', 'br', 'bs', 'ca', 'cs', 'cy', 'da', 'de', 'el', 'en', 'es', 'et', 'eu', 'fa', 'fi', 'fo', 'fr', 'gl', 'gu', 'ha', 'haw', 'he', 'hi', 'hr', 'ht', 'hu', 'hy', 'id', 'is', 'it', 'ja', 'jw', 'ka', 'kk', 'km', 'kn', 'ko', 'la', 'lb', 'ln', 'lo', 'lt', 'lv', 'mg', 'mi', 'mk', 'ml', 'mn', 'mr', 'ms', 'mt', 'my', 'ne', 'nl', 'nn', 'no', 'oc', '...\n",
      "HTTP Error 422 for POST http://localhost:18056/bots: [{'loc': ['body', 'language'], 'msg': \"Invalid language code 'wrong language'. Must be one of: ['af', 'am', 'ar', 'as', 'az', 'ba', 'be', 'bg', 'bn', 'bo', 'br', 'bs', 'ca', 'cs', 'cy', 'da', 'de', 'el', 'en', 'es', 'et', 'eu', 'fa', 'fi', 'fo', 'fr', 'gl', 'gu', 'ha', 'haw', 'he', 'hi', 'hr', 'ht', 'hu', 'hy', 'id', 'is', 'it', 'ja', 'jw', 'ka', 'kk', 'km', 'kn', 'ko', 'la', 'lb', 'ln', 'lo', 'lt', 'lv', 'mg', 'mi', 'mk', 'ml', 'mn', 'mr', 'ms', 'mt', 'my', 'ne', 'nl', 'nn', 'no', 'oc', 'pa', 'pl', 'ps', 'pt', 'ro', 'ru', 'sa', 'sd', 'si', 'sk', 'sl', 'sn', 'so', 'sq', 'sr', 'su', 'sv', 'sw', 'ta', 'te', 'tg', 'th', 'tk', 'tl', 'tr', 'tt', 'uk', 'ur', 'uz', 'vi', 'yi', 'yo', 'yue', 'zh']\", 'type': 'value_error'}]\n"
     ]
    }
   ],
   "source": [
    "# wrong language\n",
    "try:\n",
    "    meeting_info = client.request_bot(\n",
    "        platform=\"google_meet\",\n",
    "        native_meeting_id=native_meeting_id,\n",
    "        bot_name=\"Vexa's bot\",\n",
    "        language='wrong language',\n",
    "        task = 'transcribe'\n",
    "    )\n",
    "except Exception as e:\n",
    "    print(e)\n",
    "#'msg':'loc': ['body', 'language'], 'msg': \"Invalid language code 'wrong language"
   ]
  },
  {
   "cell_type": "code",
   "execution_count": 15,
   "metadata": {},
   "outputs": [
    {
     "name": "stdout",
     "output_type": "stream",
     "text": [
      "\n",
      "DEBUG: Making POST request to http://localhost:18056/bots\n",
      "DEBUG: Headers: {'Content-Type': 'application/json', 'X-API-Key': 'mg1QOAweSfrjZIX2zl4wk5oPjNsploCzwWlFdhfS'}\n",
      "DEBUG: Params: None\n",
      "DEBUG: JSON data: {'platform': 'google_meet', 'native_meeting_id': 'fjp-cbnn-hug', 'bot_name': \"Vexa's bot\", 'language': 'en', 'task': 'wrong task'}\n",
      "DEBUG: Response status: 422\n",
      "DEBUG: Response headers: {'date': 'Wed, 03 Sep 2025 13:54:15 GMT, Wed, 03 Sep 2025 13:54:15 GMT', 'server': 'uvicorn, uvicorn', 'content-length': '136', 'content-type': 'application/json'}\n",
      "DEBUG: Response content: {\"detail\":[{\"loc\":[\"body\",\"task\"],\"msg\":\"Invalid task 'wrong task'. Must be one of: ['transcribe', 'translate']\",\"type\":\"value_error\"}]}...\n",
      "HTTP Error 422 for POST http://localhost:18056/bots: [{'loc': ['body', 'task'], 'msg': \"Invalid task 'wrong task'. Must be one of: ['transcribe', 'translate']\", 'type': 'value_error'}]\n"
     ]
    }
   ],
   "source": [
    "# wrong task\n",
    "try:\n",
    "    meeting_info = client.request_bot(\n",
    "        platform=\"google_meet\",\n",
    "        native_meeting_id=native_meeting_id,\n",
    "        bot_name=\"Vexa's bot\",\n",
    "        language='en',\n",
    "        task = 'wrong task'\n",
    "    )\n",
    "except Exception as e:\n",
    "    print(e)\n",
    "#'msg':[{'loc': ['body', 'language'], 'msg': \"Invalid language code 'wrong language'."
   ]
  },
  {
   "cell_type": "code",
   "execution_count": 16,
   "metadata": {},
   "outputs": [
    {
     "name": "stdout",
     "output_type": "stream",
     "text": [
      "\n",
      "DEBUG: Making POST request to http://localhost:18056/bots\n",
      "DEBUG: Headers: {'Content-Type': 'application/json', 'X-API-Key': 'mg1QOAweSfrjZIX2zl4wk5oPjNsploCzwWlFdhfS'}\n",
      "DEBUG: Params: None\n",
      "DEBUG: JSON data: {'platform': 'google_meet', 'native_meeting_id': 'fjp-cbnn-hug', 'bot_name': \"Vexa's bot\", 'language': 'pt', 'task': 'transcribe'}\n",
      "DEBUG: Response status: 201\n",
      "DEBUG: Response headers: {'date': 'Wed, 03 Sep 2025 13:54:23 GMT, Wed, 03 Sep 2025 13:54:23 GMT', 'server': 'uvicorn, uvicorn', 'content-length': '384', 'content-type': 'application/json'}\n",
      "DEBUG: Response content: {\"id\":245,\"user_id\":122,\"platform\":\"google_meet\",\"native_meeting_id\":\"fjp-cbnn-hug\",\"constructed_meeting_url\":\"https://meet.google.com/fjp-cbnn-hug\",\"status\":\"requested\",\"bot_container_id\":\"89247efd4fa20314c87171e3940480c32cc48b2d94950f9bbdc8c2e733fdcd79\",\"start_time\":null,\"end_time\":null,\"data\":{},\"created_at\":\"2025-09-03T13:54:24.365628\",\"updated_at\":\"2025-09-03T13:54:24.383555\"}...\n"
     ]
    }
   ],
   "source": [
    "# OK\n",
    "meeting_info = client.request_bot(\n",
    "    platform=\"google_meet\",\n",
    "    native_meeting_id=native_meeting_id,\n",
    "    bot_name=\"Vexa's bot\",\n",
    "    language='pt',\n",
    "    task = 'transcribe'\n",
    ")\n"
   ]
  },
  {
   "cell_type": "code",
   "execution_count": 19,
   "metadata": {},
   "outputs": [
    {
     "data": {
      "text/html": [
       "<div>\n",
       "<style scoped>\n",
       "    .dataframe tbody tr th:only-of-type {\n",
       "        vertical-align: middle;\n",
       "    }\n",
       "\n",
       "    .dataframe tbody tr th {\n",
       "        vertical-align: top;\n",
       "    }\n",
       "\n",
       "    .dataframe thead th {\n",
       "        text-align: right;\n",
       "    }\n",
       "</style>\n",
       "<table border=\"1\" class=\"dataframe\">\n",
       "  <thead>\n",
       "    <tr style=\"text-align: right;\">\n",
       "      <th></th>\n",
       "      <th>start</th>\n",
       "      <th>end</th>\n",
       "      <th>text</th>\n",
       "      <th>language</th>\n",
       "      <th>created_at</th>\n",
       "      <th>speaker</th>\n",
       "      <th>absolute_start_time</th>\n",
       "      <th>absolute_end_time</th>\n",
       "    </tr>\n",
       "  </thead>\n",
       "  <tbody>\n",
       "    <tr>\n",
       "      <th>0</th>\n",
       "      <td>0.00</td>\n",
       "      <td>4.32</td>\n",
       "      <td>3, 4, 5, 1, 2, 3, 4, 5, 2,</td>\n",
       "      <td>pt</td>\n",
       "      <td>None</td>\n",
       "      <td>Dmitriy Grankin</td>\n",
       "      <td>2025-09-03T13:54:43.715750+00:00</td>\n",
       "      <td>2025-09-03T13:54:48.035750+00:00</td>\n",
       "    </tr>\n",
       "  </tbody>\n",
       "</table>\n",
       "</div>"
      ],
      "text/plain": [
       "                 start                  end                         text language created_at          speaker               absolute_start_time                 absolute_end_time\n",
       "0                 0.00                 4.32   3, 4, 5, 1, 2, 3, 4, 5, 2,       pt       None  Dmitriy Grankin  2025-09-03T13:54:43.715750+00:00  2025-09-03T13:54:48.035750+00:00"
      ]
     },
     "metadata": {},
     "output_type": "display_data"
    },
    {
     "ename": "KeyboardInterrupt",
     "evalue": "",
     "output_type": "error",
     "traceback": [
      "\u001b[0;31m---------------------------------------------------------------------------\u001b[0m",
      "\u001b[0;31mKeyboardInterrupt\u001b[0m                         Traceback (most recent call last)",
      "Cell \u001b[0;32mIn[19], line 6\u001b[0m\n\u001b[1;32m      4\u001b[0m clear_output()\n\u001b[1;32m      5\u001b[0m display(df\u001b[38;5;241m.\u001b[39msort_values(\u001b[38;5;124m'\u001b[39m\u001b[38;5;124mabsolute_start_time\u001b[39m\u001b[38;5;124m'\u001b[39m)\u001b[38;5;241m.\u001b[39mtail(\u001b[38;5;241m10\u001b[39m))\n\u001b[0;32m----> 6\u001b[0m \u001b[43mtime\u001b[49m\u001b[38;5;241;43m.\u001b[39;49m\u001b[43msleep\u001b[49m\u001b[43m(\u001b[49m\u001b[38;5;241;43m1\u001b[39;49m\u001b[43m)\u001b[49m\n",
      "\u001b[0;31mKeyboardInterrupt\u001b[0m: "
     ]
    }
   ],
   "source": [
    "while True:\n",
    "    transcript = client.get_transcript(native_meeting_id=native_meeting_id,platform='google_meet')\n",
    "    df = pd.DataFrame(transcript['segments'])#.sort_values(['created_at','start'])#.drop_duplicates('start',keep='last')\n",
    "    clear_output()\n",
    "    display(df.sort_values('absolute_start_time').tail(10))\n",
    "    time.sleep(1)"
   ]
  },
  {
   "cell_type": "code",
   "execution_count": 20,
   "metadata": {},
   "outputs": [
    {
     "name": "stdout",
     "output_type": "stream",
     "text": [
      "\n",
      "DEBUG: Making DELETE request to http://localhost:18056/bots/wrong platform/fjp-cbnn-hug\n",
      "DEBUG: Headers: {'Content-Type': 'application/json', 'X-API-Key': 'mg1QOAweSfrjZIX2zl4wk5oPjNsploCzwWlFdhfS'}\n",
      "DEBUG: Params: None\n",
      "DEBUG: JSON data: None\n",
      "DEBUG: Response status: 422\n",
      "DEBUG: Response headers: {'date': 'Wed, 03 Sep 2025 13:54:55 GMT', 'server': 'uvicorn', 'content-length': '209', 'content-type': 'application/json'}\n",
      "DEBUG: Response content: {\"detail\":[{\"loc\":[\"path\",\"platform\"],\"msg\":\"value is not a valid enumeration member; permitted: 'google_meet', 'zoom', 'teams'\",\"type\":\"type_error.enum\",\"ctx\":{\"enum_values\":[\"google_meet\",\"zoom\",\"teams\"]}}]}...\n",
      "HTTP Error 422 for DELETE http://localhost:18056/bots/wrong platform/fjp-cbnn-hug: [{'loc': ['path', 'platform'], 'msg': \"value is not a valid enumeration member; permitted: 'google_meet', 'zoom', 'teams'\", 'type': 'type_error.enum', 'ctx': {'enum_values': ['google_meet', 'zoom', 'teams']}}]\n"
     ]
    }
   ],
   "source": [
    "# wrong platform\n",
    "try:\n",
    "    client.stop_bot(platform=\"wrong platform\",native_meeting_id=native_meeting_id)\n",
    "except Exception as e:\n",
    "    print(e)\n",
    "#'msg':  'msg': \"value is not a valid enumeration member; permitted"
   ]
  },
  {
   "cell_type": "code",
   "execution_count": 23,
   "metadata": {},
   "outputs": [
    {
     "name": "stdout",
     "output_type": "stream",
     "text": [
      "\n",
      "DEBUG: Making DELETE request to http://localhost:18056/bots/google_meet/wrong meeting id\n",
      "DEBUG: Headers: {'Content-Type': 'application/json', 'X-API-Key': 'cIOZvTzRSQtoOFMieKbmEA2cZIe2iuwpzYpFRPf4'}\n",
      "DEBUG: Params: None\n",
      "DEBUG: JSON data: None\n",
      "DEBUG: Response status: 404\n",
      "DEBUG: Response headers: {'date': 'Wed, 03 Sep 2025 13:49:02 GMT, Wed, 03 Sep 2025 13:49:01 GMT', 'server': 'uvicorn, uvicorn', 'content-length': '38', 'content-type': 'application/json'}\n",
      "DEBUG: Response content: {\"detail\":\"No meeting found to stop.\"}...\n",
      "HTTP Error 404 for DELETE http://localhost:18056/bots/google_meet/wrong meeting id: No meeting found to stop.\n"
     ]
    }
   ],
   "source": [
    "# wrong meeting id\n",
    "try:\n",
    "    client.stop_bot(platform=\"google_meet\",native_meeting_id='wrong meeting id')\n",
    "except Exception as e:\n",
    "    print(e)\n",
    "#'msg':  'msg': \"value is not a valid enumeration member; permitted"
   ]
  },
  {
   "cell_type": "code",
   "execution_count": 21,
   "metadata": {},
   "outputs": [
    {
     "name": "stdout",
     "output_type": "stream",
     "text": [
      "\n",
      "DEBUG: Making GET request to http://localhost:18056/bots/status\n",
      "DEBUG: Headers: {'Content-Type': 'application/json', 'X-API-Key': 'mg1QOAweSfrjZIX2zl4wk5oPjNsploCzwWlFdhfS'}\n",
      "DEBUG: Params: None\n",
      "DEBUG: JSON data: None\n",
      "DEBUG: Response status: 200\n",
      "DEBUG: Response headers: {'date': 'Wed, 03 Sep 2025 13:54:58 GMT, Wed, 03 Sep 2025 13:54:59 GMT', 'server': 'uvicorn, uvicorn', 'content-length': '443', 'content-type': 'application/json'}\n",
      "DEBUG: Response content: {\"running_bots\":[{\"container_id\":\"89247efd4fa20314c87171e3940480c32cc48b2d94950f9bbdc8c2e733fdcd79\",\"container_name\":\"vexa-bot-245-01526d8c\",\"platform\":\"google_meet\",\"native_meeting_id\":\"fjp-cbnn-hug\",\"status\":\"Up 35 seconds\",\"normalized_status\":\"Up\",\"created_at\":\"2025-09-03T13:54:24+00:00\",\"labels\":{\"org.opencontainers.image.ref.name\":\"ubuntu\",\"org.opencontainers.image.version\":\"22.04\",\"vexa.user_id\":\"122\"},\"meeting_id_from_name\":\"245\"}]}...\n"
     ]
    }
   ],
   "source": [
    "running_bots = client.get_running_bots_status()"
   ]
  },
  {
   "cell_type": "code",
   "execution_count": 22,
   "metadata": {},
   "outputs": [
    {
     "name": "stdout",
     "output_type": "stream",
     "text": [
      "\n",
      "DEBUG: Making PUT request to http://localhost:18056/bots/wrong platform/fjp-cbnn-hug/config\n",
      "DEBUG: Headers: {'Content-Type': 'application/json', 'X-API-Key': 'mg1QOAweSfrjZIX2zl4wk5oPjNsploCzwWlFdhfS'}\n",
      "DEBUG: Params: None\n",
      "DEBUG: JSON data: {'language': 'en', 'task': 'transcribe'}\n",
      "DEBUG: Response status: 422\n",
      "DEBUG: Response headers: {'date': 'Wed, 03 Sep 2025 13:55:05 GMT', 'server': 'uvicorn', 'content-length': '209', 'content-type': 'application/json'}\n",
      "DEBUG: Response content: {\"detail\":[{\"loc\":[\"path\",\"platform\"],\"msg\":\"value is not a valid enumeration member; permitted: 'google_meet', 'zoom', 'teams'\",\"type\":\"type_error.enum\",\"ctx\":{\"enum_values\":[\"google_meet\",\"zoom\",\"teams\"]}}]}...\n",
      "HTTP Error 422 for PUT http://localhost:18056/bots/wrong platform/fjp-cbnn-hug/config: [{'loc': ['path', 'platform'], 'msg': \"value is not a valid enumeration member; permitted: 'google_meet', 'zoom', 'teams'\", 'type': 'type_error.enum', 'ctx': {'enum_values': ['google_meet', 'zoom', 'teams']}}]\n"
     ]
    }
   ],
   "source": [
    "# wrong meeting id\n",
    "try:\n",
    "    client.update_bot_config(\n",
    "        platform=\"wrong platform\",\n",
    "        native_meeting_id=native_meeting_id,\n",
    "        language='en',\n",
    "        task = 'transcribe'\n",
    "    )\n",
    "except Exception as e:\n",
    "    print(e)\n",
    "#'msg':  'msg': \"value is not a valid enumeration member; permitted"
   ]
  },
  {
   "cell_type": "code",
   "execution_count": 23,
   "metadata": {},
   "outputs": [
    {
     "name": "stdout",
     "output_type": "stream",
     "text": [
      "\n",
      "DEBUG: Making PUT request to http://localhost:18056/bots/google_meet/wrong meeting id/config\n",
      "DEBUG: Headers: {'Content-Type': 'application/json', 'X-API-Key': 'mg1QOAweSfrjZIX2zl4wk5oPjNsploCzwWlFdhfS'}\n",
      "DEBUG: Params: None\n",
      "DEBUG: JSON data: {'language': 'en', 'task': 'transcribe'}\n",
      "DEBUG: Response status: 404\n",
      "DEBUG: Response headers: {'date': 'Wed, 03 Sep 2025 13:55:20 GMT, Wed, 03 Sep 2025 13:55:21 GMT', 'server': 'uvicorn, uvicorn', 'content-length': '94', 'content-type': 'application/json'}\n",
      "DEBUG: Response content: {\"detail\":\"No active meeting found for platform google_meet and meeting ID wrong meeting id.\"}...\n",
      "HTTP Error 404 for PUT http://localhost:18056/bots/google_meet/wrong meeting id/config: No active meeting found for platform google_meet and meeting ID wrong meeting id.\n"
     ]
    }
   ],
   "source": [
    "# wrong meeting id\n",
    "try:\n",
    "    client.update_bot_config(\n",
    "        platform=\"google_meet\",\n",
    "        native_meeting_id='wrong meeting id',\n",
    "        language='en',\n",
    "        task = 'transcribe'\n",
    "    )\n",
    "except Exception as e:\n",
    "    print(e)\n",
    "#'msg':  'msg': \"o active meeting found "
   ]
  },
  {
   "cell_type": "code",
   "execution_count": 25,
   "metadata": {},
   "outputs": [
    {
     "name": "stdout",
     "output_type": "stream",
     "text": [
      "\n",
      "DEBUG: Making PUT request to http://localhost:18056/bots/google_meet/fjp-cbnn-hug/config\n",
      "DEBUG: Headers: {'Content-Type': 'application/json', 'X-API-Key': 'mg1QOAweSfrjZIX2zl4wk5oPjNsploCzwWlFdhfS'}\n",
      "DEBUG: Params: None\n",
      "DEBUG: JSON data: {'language': 'en', 'task': 'wrong task'}\n",
      "DEBUG: Response status: 422\n",
      "DEBUG: Response headers: {'date': 'Wed, 03 Sep 2025 13:55:44 GMT, Wed, 03 Sep 2025 13:55:45 GMT', 'server': 'uvicorn, uvicorn', 'content-length': '136', 'content-type': 'application/json'}\n",
      "DEBUG: Response content: {\"detail\":[{\"loc\":[\"body\",\"task\"],\"msg\":\"Invalid task 'wrong task'. Must be one of: ['transcribe', 'translate']\",\"type\":\"value_error\"}]}...\n",
      "HTTP Error 422 for PUT http://localhost:18056/bots/google_meet/fjp-cbnn-hug/config: [{'loc': ['body', 'task'], 'msg': \"Invalid task 'wrong task'. Must be one of: ['transcribe', 'translate']\", 'type': 'value_error'}]\n"
     ]
    }
   ],
   "source": [
    "# wrong meeting id\n",
    "try:\n",
    "    client.update_bot_config(\n",
    "        platform=\"google_meet\",\n",
    "        native_meeting_id=native_meeting_id,\n",
    "        language='en',\n",
    "        task = 'wrong task'\n",
    "    )\n",
    "except Exception as e:\n",
    "    print(e)\n",
    "#'msg':  'msg': 'msg': \"Invalid task 'wrong task'. Must be one of: ['transcribe', 'translate']\","
   ]
  },
  {
   "cell_type": "code",
   "execution_count": 29,
   "metadata": {},
   "outputs": [
    {
     "name": "stdout",
     "output_type": "stream",
     "text": [
      "\n",
      "DEBUG: Making PUT request to http://localhost:18056/bots/google_meet/fjp-cbnn-hug/config\n",
      "DEBUG: Headers: {'Content-Type': 'application/json', 'X-API-Key': 'mg1QOAweSfrjZIX2zl4wk5oPjNsploCzwWlFdhfS'}\n",
      "DEBUG: Params: None\n",
      "DEBUG: JSON data: {'language': 'en'}\n",
      "DEBUG: Response status: 202\n",
      "DEBUG: Response headers: {'date': 'Wed, 03 Sep 2025 13:56:27 GMT, Wed, 03 Sep 2025 13:56:26 GMT', 'server': 'uvicorn, uvicorn', 'content-length': '67', 'content-type': 'application/json'}\n",
      "DEBUG: Response content: {\"message\":\"Reconfiguration request accepted and sent to the bot.\"}...\n"
     ]
    },
    {
     "data": {
      "text/plain": [
       "{'message': 'Reconfiguration request accepted and sent to the bot.'}"
      ]
     },
     "execution_count": 29,
     "metadata": {},
     "output_type": "execute_result"
    }
   ],
   "source": [
    "# OK\n",
    "\n",
    "client.update_bot_config(\n",
    "    platform=\"google_meet\",\n",
    "    native_meeting_id=native_meeting_id,\n",
    "    language='en'\n",
    ")"
   ]
  },
  {
   "cell_type": "code",
   "execution_count": 30,
   "metadata": {},
   "outputs": [
    {
     "data": {
      "text/html": [
       "<div>\n",
       "<style scoped>\n",
       "    .dataframe tbody tr th:only-of-type {\n",
       "        vertical-align: middle;\n",
       "    }\n",
       "\n",
       "    .dataframe tbody tr th {\n",
       "        vertical-align: top;\n",
       "    }\n",
       "\n",
       "    .dataframe thead th {\n",
       "        text-align: right;\n",
       "    }\n",
       "</style>\n",
       "<table border=\"1\" class=\"dataframe\">\n",
       "  <thead>\n",
       "    <tr style=\"text-align: right;\">\n",
       "      <th></th>\n",
       "      <th>start</th>\n",
       "      <th>end</th>\n",
       "      <th>text</th>\n",
       "      <th>language</th>\n",
       "      <th>created_at</th>\n",
       "      <th>speaker</th>\n",
       "      <th>absolute_start_time</th>\n",
       "      <th>absolute_end_time</th>\n",
       "    </tr>\n",
       "  </thead>\n",
       "  <tbody>\n",
       "    <tr>\n",
       "      <th>0</th>\n",
       "      <td>0.00</td>\n",
       "      <td>8.40</td>\n",
       "      <td>3, 4, 5, 1, 2, 3, 4, 5, 6, 7, oh meu Deus!</td>\n",
       "      <td>pt</td>\n",
       "      <td>2025-09-03T13:55:41.758031</td>\n",
       "      <td>Dmitriy Grankin</td>\n",
       "      <td>2025-09-03T13:54:43.715750+00:00</td>\n",
       "      <td>2025-09-03T13:54:52.115750+00:00</td>\n",
       "    </tr>\n",
       "    <tr>\n",
       "      <th>1</th>\n",
       "      <td>95.07</td>\n",
       "      <td>97.07</td>\n",
       "      <td>Valeu!</td>\n",
       "      <td>pt</td>\n",
       "      <td>2025-09-03T13:57:01.785136</td>\n",
       "      <td>None</td>\n",
       "      <td>2025-09-03T13:56:18.788750+00:00</td>\n",
       "      <td>2025-09-03T13:56:20.788750+00:00</td>\n",
       "    </tr>\n",
       "    <tr>\n",
       "      <th>2</th>\n",
       "      <td>4.23</td>\n",
       "      <td>11.33</td>\n",
       "      <td>one two three four five six seven one two three four five six seven one two</td>\n",
       "      <td>en</td>\n",
       "      <td>None</td>\n",
       "      <td>Dmitriy Grankin</td>\n",
       "      <td>2025-09-03T13:56:33.325103+00:00</td>\n",
       "      <td>2025-09-03T13:56:40.425103+00:00</td>\n",
       "    </tr>\n",
       "    <tr>\n",
       "      <th>3</th>\n",
       "      <td>11.33</td>\n",
       "      <td>17.33</td>\n",
       "      <td>three four five six</td>\n",
       "      <td>en</td>\n",
       "      <td>None</td>\n",
       "      <td>Dmitriy Grankin</td>\n",
       "      <td>2025-09-03T13:56:40.425103+00:00</td>\n",
       "      <td>2025-09-03T13:56:46.425103+00:00</td>\n",
       "    </tr>\n",
       "    <tr>\n",
       "      <th>4</th>\n",
       "      <td>17.33</td>\n",
       "      <td>27.03</td>\n",
       "      <td>1, 2, 3, 4, 5, 6, 7, 8, 9, 10, 11, 12, 13, 14, 15, 16, 17, 17,</td>\n",
       "      <td>en</td>\n",
       "      <td>None</td>\n",
       "      <td>Dmitriy Grankin</td>\n",
       "      <td>2025-09-03T13:56:46.425103+00:00</td>\n",
       "      <td>2025-09-03T13:56:56.125103+00:00</td>\n",
       "    </tr>\n",
       "    <tr>\n",
       "      <th>5</th>\n",
       "      <td>27.03</td>\n",
       "      <td>33.09</td>\n",
       "      <td>1,2,3,4,5,6,7</td>\n",
       "      <td>en</td>\n",
       "      <td>None</td>\n",
       "      <td>Dmitriy Grankin</td>\n",
       "      <td>2025-09-03T13:56:56.125103+00:00</td>\n",
       "      <td>2025-09-03T13:57:02.185103+00:00</td>\n",
       "    </tr>\n",
       "    <tr>\n",
       "      <th>6</th>\n",
       "      <td>28.33</td>\n",
       "      <td>33.09</td>\n",
       "      <td>1,2,3,4,5,6,7</td>\n",
       "      <td>en</td>\n",
       "      <td>None</td>\n",
       "      <td>Dmitriy Grankin</td>\n",
       "      <td>2025-09-03T13:56:57.425103+00:00</td>\n",
       "      <td>2025-09-03T13:57:02.185103+00:00</td>\n",
       "    </tr>\n",
       "    <tr>\n",
       "      <th>7</th>\n",
       "      <td>30.03</td>\n",
       "      <td>31.23</td>\n",
       "      <td>and then stretch quad.</td>\n",
       "      <td>en</td>\n",
       "      <td>None</td>\n",
       "      <td>Dmitriy Grankin</td>\n",
       "      <td>2025-09-03T13:56:59.125103+00:00</td>\n",
       "      <td>2025-09-03T13:57:00.325103+00:00</td>\n",
       "    </tr>\n",
       "  </tbody>\n",
       "</table>\n",
       "</div>"
      ],
      "text/plain": [
       "                 start                  end                                                                          text language                  created_at          speaker               absolute_start_time                 absolute_end_time\n",
       "0                 0.00                 8.40                                    3, 4, 5, 1, 2, 3, 4, 5, 6, 7, oh meu Deus!       pt  2025-09-03T13:55:41.758031  Dmitriy Grankin  2025-09-03T13:54:43.715750+00:00  2025-09-03T13:54:52.115750+00:00\n",
       "1                95.07                97.07                                                                        Valeu!       pt  2025-09-03T13:57:01.785136             None  2025-09-03T13:56:18.788750+00:00  2025-09-03T13:56:20.788750+00:00\n",
       "2                 4.23                11.33   one two three four five six seven one two three four five six seven one two       en                        None  Dmitriy Grankin  2025-09-03T13:56:33.325103+00:00  2025-09-03T13:56:40.425103+00:00\n",
       "3                11.33                17.33                                                           three four five six       en                        None  Dmitriy Grankin  2025-09-03T13:56:40.425103+00:00  2025-09-03T13:56:46.425103+00:00\n",
       "4                17.33                27.03                1, 2, 3, 4, 5, 6, 7, 8, 9, 10, 11, 12, 13, 14, 15, 16, 17, 17,       en                        None  Dmitriy Grankin  2025-09-03T13:56:46.425103+00:00  2025-09-03T13:56:56.125103+00:00\n",
       "5                27.03                33.09                                                                 1,2,3,4,5,6,7       en                        None  Dmitriy Grankin  2025-09-03T13:56:56.125103+00:00  2025-09-03T13:57:02.185103+00:00\n",
       "6                28.33                33.09                                                                 1,2,3,4,5,6,7       en                        None  Dmitriy Grankin  2025-09-03T13:56:57.425103+00:00  2025-09-03T13:57:02.185103+00:00\n",
       "7                30.03                31.23                                                        and then stretch quad.       en                        None  Dmitriy Grankin  2025-09-03T13:56:59.125103+00:00  2025-09-03T13:57:00.325103+00:00"
      ]
     },
     "metadata": {},
     "output_type": "display_data"
    },
    {
     "ename": "KeyboardInterrupt",
     "evalue": "",
     "output_type": "error",
     "traceback": [
      "\u001b[0;31m---------------------------------------------------------------------------\u001b[0m",
      "\u001b[0;31mKeyboardInterrupt\u001b[0m                         Traceback (most recent call last)",
      "Cell \u001b[0;32mIn[30], line 6\u001b[0m\n\u001b[1;32m      4\u001b[0m clear_output()\n\u001b[1;32m      5\u001b[0m display(df\u001b[38;5;241m.\u001b[39msort_values(\u001b[38;5;124m'\u001b[39m\u001b[38;5;124mabsolute_start_time\u001b[39m\u001b[38;5;124m'\u001b[39m)\u001b[38;5;241m.\u001b[39mtail(\u001b[38;5;241m10\u001b[39m))\n\u001b[0;32m----> 6\u001b[0m time\u001b[38;5;241m.\u001b[39msleep(\u001b[38;5;241m1\u001b[39m)\n",
      "\u001b[0;31mKeyboardInterrupt\u001b[0m: "
     ]
    }
   ],
   "source": [
    "while True:\n",
    "    transcript = client.get_transcript(native_meeting_id=native_meeting_id,platform='google_meet')\n",
    "    df = pd.DataFrame(transcript['segments'])#.sort_values(['created_at','start'])#.drop_duplicates('start',keep='last')\n",
    "    clear_output()\n",
    "    display(df.sort_values('absolute_start_time').tail(10))\n",
    "    time.sleep(1)"
   ]
  },
  {
   "cell_type": "code",
   "execution_count": 34,
   "metadata": {},
   "outputs": [
    {
     "name": "stdout",
     "output_type": "stream",
     "text": [
      "\n",
      "DEBUG: Making GET request to http://localhost:18056/bots/status\n",
      "DEBUG: Headers: {'Content-Type': 'application/json', 'X-API-Key': 'mg1QOAweSfrjZIX2zl4wk5oPjNsploCzwWlFdhfS'}\n",
      "DEBUG: Params: None\n",
      "DEBUG: JSON data: None\n",
      "DEBUG: Response status: 200\n",
      "DEBUG: Response headers: {'date': 'Wed, 03 Sep 2025 13:57:41 GMT, Wed, 03 Sep 2025 13:57:40 GMT', 'server': 'uvicorn, uvicorn', 'content-length': '442', 'content-type': 'application/json'}\n",
      "DEBUG: Response content: {\"running_bots\":[{\"container_id\":\"89247efd4fa20314c87171e3940480c32cc48b2d94950f9bbdc8c2e733fdcd79\",\"container_name\":\"vexa-bot-245-01526d8c\",\"platform\":\"google_meet\",\"native_meeting_id\":\"fjp-cbnn-hug\",\"status\":\"Up 3 minutes\",\"normalized_status\":\"Up\",\"created_at\":\"2025-09-03T13:54:24+00:00\",\"labels\":{\"org.opencontainers.image.ref.name\":\"ubuntu\",\"org.opencontainers.image.version\":\"22.04\",\"vexa.user_id\":\"122\"},\"meeting_id_from_name\":\"245\"}]}...\n"
     ]
    }
   ],
   "source": [
    "running_bots = client.get_running_bots_status()"
   ]
  },
  {
   "cell_type": "code",
   "execution_count": 36,
   "metadata": {},
   "outputs": [
    {
     "name": "stdout",
     "output_type": "stream",
     "text": [
      "\n",
      "DEBUG: Making DELETE request to http://localhost:18056/bots/google_meet/fjp-cbnn-hug\n",
      "DEBUG: Headers: {'Content-Type': 'application/json', 'X-API-Key': 'mg1QOAweSfrjZIX2zl4wk5oPjNsploCzwWlFdhfS'}\n",
      "DEBUG: Params: None\n",
      "DEBUG: JSON data: None\n",
      "DEBUG: Response status: 404\n",
      "DEBUG: Response headers: {'date': 'Wed, 03 Sep 2025 13:58:01 GMT, Wed, 03 Sep 2025 13:58:01 GMT', 'server': 'uvicorn, uvicorn', 'content-length': '38', 'content-type': 'application/json'}\n",
      "DEBUG: Response content: {\"detail\":\"No meeting found to stop.\"}...\n"
     ]
    },
    {
     "ename": "VexaClientError",
     "evalue": "HTTP Error 404 for DELETE http://localhost:18056/bots/google_meet/fjp-cbnn-hug: No meeting found to stop.",
     "output_type": "error",
     "traceback": [
      "\u001b[0;31m---------------------------------------------------------------------------\u001b[0m",
      "\u001b[0;31mHTTPError\u001b[0m                                 Traceback (most recent call last)",
      "File \u001b[0;32m~/anaconda3/envs/vexa/lib/python3.11/site-packages/vexa_client/vexa.py:108\u001b[0m, in \u001b[0;36mVexaClient._request\u001b[0;34m(self, method, path, api_type, params, json_data)\u001b[0m\n\u001b[1;32m    106\u001b[0m     \u001b[38;5;28mprint\u001b[39m(\u001b[38;5;124mf\u001b[39m\u001b[38;5;124m\"\u001b[39m\u001b[38;5;124mDEBUG: Could not display response content\u001b[39m\u001b[38;5;124m\"\u001b[39m)\n\u001b[0;32m--> 108\u001b[0m \u001b[43mresponse\u001b[49m\u001b[38;5;241;43m.\u001b[39;49m\u001b[43mraise_for_status\u001b[49m\u001b[43m(\u001b[49m\u001b[43m)\u001b[49m \u001b[38;5;66;03m# Raise HTTPError for bad responses (4xx or 5xx)\u001b[39;00m\n\u001b[1;32m    110\u001b[0m \u001b[38;5;66;03m# Handle cases where response might be empty (e.g., 204 No Content)\u001b[39;00m\n",
      "File \u001b[0;32m~/anaconda3/envs/vexa/lib/python3.11/site-packages/requests/models.py:1024\u001b[0m, in \u001b[0;36mResponse.raise_for_status\u001b[0;34m(self)\u001b[0m\n\u001b[1;32m   1023\u001b[0m \u001b[38;5;28;01mif\u001b[39;00m http_error_msg:\n\u001b[0;32m-> 1024\u001b[0m     \u001b[38;5;28;01mraise\u001b[39;00m HTTPError(http_error_msg, response\u001b[38;5;241m=\u001b[39m\u001b[38;5;28mself\u001b[39m)\n",
      "\u001b[0;31mHTTPError\u001b[0m: 404 Client Error: Not Found for url: http://localhost:18056/bots/google_meet/fjp-cbnn-hug",
      "\nThe above exception was the direct cause of the following exception:\n",
      "\u001b[0;31mVexaClientError\u001b[0m                           Traceback (most recent call last)",
      "Cell \u001b[0;32mIn[36], line 1\u001b[0m\n\u001b[0;32m----> 1\u001b[0m \u001b[43mclient\u001b[49m\u001b[38;5;241;43m.\u001b[39;49m\u001b[43mstop_bot\u001b[49m\u001b[43m(\u001b[49m\u001b[43mplatform\u001b[49m\u001b[38;5;241;43m=\u001b[39;49m\u001b[38;5;124;43m\"\u001b[39;49m\u001b[38;5;124;43mgoogle_meet\u001b[39;49m\u001b[38;5;124;43m\"\u001b[39;49m\u001b[43m,\u001b[49m\u001b[43mnative_meeting_id\u001b[49m\u001b[38;5;241;43m=\u001b[39;49m\u001b[43mnative_meeting_id\u001b[49m\u001b[43m)\u001b[49m\n",
      "File \u001b[0;32m~/anaconda3/envs/vexa/lib/python3.11/site-packages/vexa_client/vexa.py:172\u001b[0m, in \u001b[0;36mVexaClient.stop_bot\u001b[0;34m(self, platform, native_meeting_id)\u001b[0m\n\u001b[1;32m    170\u001b[0m path \u001b[38;5;241m=\u001b[39m \u001b[38;5;124mf\u001b[39m\u001b[38;5;124m\"\u001b[39m\u001b[38;5;124m/bots/\u001b[39m\u001b[38;5;132;01m{\u001b[39;00mplatform\u001b[38;5;132;01m}\u001b[39;00m\u001b[38;5;124m/\u001b[39m\u001b[38;5;132;01m{\u001b[39;00mnative_meeting_id\u001b[38;5;132;01m}\u001b[39;00m\u001b[38;5;124m\"\u001b[39m\n\u001b[1;32m    171\u001b[0m \u001b[38;5;66;03m# _request handles 202 status and returns the JSON body\u001b[39;00m\n\u001b[0;32m--> 172\u001b[0m \u001b[38;5;28;01mreturn\u001b[39;00m \u001b[38;5;28;43mself\u001b[39;49m\u001b[38;5;241;43m.\u001b[39;49m\u001b[43m_request\u001b[49m\u001b[43m(\u001b[49m\u001b[38;5;124;43m\"\u001b[39;49m\u001b[38;5;124;43mDELETE\u001b[39;49m\u001b[38;5;124;43m\"\u001b[39;49m\u001b[43m,\u001b[49m\u001b[43m \u001b[49m\u001b[43mpath\u001b[49m\u001b[43m,\u001b[49m\u001b[43m \u001b[49m\u001b[43mapi_type\u001b[49m\u001b[38;5;241;43m=\u001b[39;49m\u001b[38;5;124;43m'\u001b[39;49m\u001b[38;5;124;43muser\u001b[39;49m\u001b[38;5;124;43m'\u001b[39;49m\u001b[43m)\u001b[49m\n",
      "File \u001b[0;32m~/anaconda3/envs/vexa/lib/python3.11/site-packages/vexa_client/vexa.py:124\u001b[0m, in \u001b[0;36mVexaClient._request\u001b[0;34m(self, method, path, api_type, params, json_data)\u001b[0m\n\u001b[1;32m    122\u001b[0m     \u001b[38;5;28;01mexcept\u001b[39;00m requests\u001b[38;5;241m.\u001b[39mexceptions\u001b[38;5;241m.\u001b[39mJSONDecodeError:\n\u001b[1;32m    123\u001b[0m         detail_msg \u001b[38;5;241m=\u001b[39m e\u001b[38;5;241m.\u001b[39mresponse\u001b[38;5;241m.\u001b[39mtext\n\u001b[0;32m--> 124\u001b[0m     \u001b[38;5;28;01mraise\u001b[39;00m VexaClientError(\u001b[38;5;124mf\u001b[39m\u001b[38;5;124m\"\u001b[39m\u001b[38;5;124mHTTP Error \u001b[39m\u001b[38;5;132;01m{\u001b[39;00me\u001b[38;5;241m.\u001b[39mresponse\u001b[38;5;241m.\u001b[39mstatus_code\u001b[38;5;132;01m}\u001b[39;00m\u001b[38;5;124m for \u001b[39m\u001b[38;5;132;01m{\u001b[39;00mmethod\u001b[38;5;132;01m}\u001b[39;00m\u001b[38;5;124m \u001b[39m\u001b[38;5;132;01m{\u001b[39;00murl\u001b[38;5;132;01m}\u001b[39;00m\u001b[38;5;124m: \u001b[39m\u001b[38;5;132;01m{\u001b[39;00mdetail_msg\u001b[38;5;132;01m}\u001b[39;00m\u001b[38;5;124m\"\u001b[39m) \u001b[38;5;28;01mfrom\u001b[39;00m \u001b[38;5;21;01me\u001b[39;00m\n\u001b[1;32m    125\u001b[0m \u001b[38;5;28;01mexcept\u001b[39;00m requests\u001b[38;5;241m.\u001b[39mexceptions\u001b[38;5;241m.\u001b[39mRequestException \u001b[38;5;28;01mas\u001b[39;00m e:\n\u001b[1;32m    126\u001b[0m     \u001b[38;5;28;01mraise\u001b[39;00m VexaClientError(\u001b[38;5;124mf\u001b[39m\u001b[38;5;124m\"\u001b[39m\u001b[38;5;124mRequest failed for \u001b[39m\u001b[38;5;132;01m{\u001b[39;00mmethod\u001b[38;5;132;01m}\u001b[39;00m\u001b[38;5;124m \u001b[39m\u001b[38;5;132;01m{\u001b[39;00murl\u001b[38;5;132;01m}\u001b[39;00m\u001b[38;5;124m: \u001b[39m\u001b[38;5;132;01m{\u001b[39;00me\u001b[38;5;132;01m}\u001b[39;00m\u001b[38;5;124m\"\u001b[39m) \u001b[38;5;28;01mfrom\u001b[39;00m \u001b[38;5;21;01me\u001b[39;00m\n",
      "\u001b[0;31mVexaClientError\u001b[0m: HTTP Error 404 for DELETE http://localhost:18056/bots/google_meet/fjp-cbnn-hug: No meeting found to stop."
     ]
    }
   ],
   "source": [
    "client.stop_bot(platform=\"google_meet\",native_meeting_id=native_meeting_id)\n"
   ]
  },
  {
   "cell_type": "code",
   "execution_count": 37,
   "metadata": {},
   "outputs": [
    {
     "name": "stdout",
     "output_type": "stream",
     "text": [
      "\n",
      "DEBUG: Making GET request to http://localhost:18056/meetings\n",
      "DEBUG: Headers: {'Content-Type': 'application/json', 'X-API-Key': 'mg1QOAweSfrjZIX2zl4wk5oPjNsploCzwWlFdhfS'}\n",
      "DEBUG: Params: None\n",
      "DEBUG: JSON data: None\n",
      "DEBUG: Response status: 200\n",
      "DEBUG: Response headers: {'date': 'Wed, 03 Sep 2025 13:58:05 GMT, Wed, 03 Sep 2025 13:58:04 GMT', 'server': 'uvicorn, uvicorn', 'content-length': '462', 'content-type': 'application/json'}\n",
      "DEBUG: Response content: {\"meetings\":[{\"id\":245,\"user_id\":122,\"platform\":\"google_meet\",\"native_meeting_id\":\"fjp-cbnn-hug\",\"constructed_meeting_url\":\"https://meet.google.com/fjp-cbnn-hug\",\"status\":\"completed\",\"bot_container_id\":\"vexa-bot-245-01526d8c\",\"start_time\":\"2025-09-03T13:54:42.557697\",\"end_time\":\"2025-09-03T13:57:54.588987\",\"data\":{\"languages\":[\"en\",\"pt\"],\"participants\":[\"Dmitriy Grankin\"]},\"created_at\":\"2025-09-03T13:54:24.365628\",\"updated_at\":\"2025-09-03T13:57:54.606178\"}]}...\n"
     ]
    }
   ],
   "source": [
    "meetings = client.get_meetings()"
   ]
  },
  {
   "cell_type": "code",
   "execution_count": 38,
   "metadata": {},
   "outputs": [
    {
     "data": {
      "text/plain": [
       "[{'id': 245,\n",
       "  'user_id': 122,\n",
       "  'platform': 'google_meet',\n",
       "  'native_meeting_id': 'fjp-cbnn-hug',\n",
       "  'constructed_meeting_url': 'https://meet.google.com/fjp-cbnn-hug',\n",
       "  'status': 'completed',\n",
       "  'bot_container_id': 'vexa-bot-245-01526d8c',\n",
       "  'start_time': '2025-09-03T13:54:42.557697',\n",
       "  'end_time': '2025-09-03T13:57:54.588987',\n",
       "  'data': {'languages': ['en', 'pt'], 'participants': ['Dmitriy Grankin']},\n",
       "  'created_at': '2025-09-03T13:54:24.365628',\n",
       "  'updated_at': '2025-09-03T13:57:54.606178'}]"
      ]
     },
     "execution_count": 38,
     "metadata": {},
     "output_type": "execute_result"
    }
   ],
   "source": [
    "meetings"
   ]
  },
  {
   "cell_type": "markdown",
   "metadata": {},
   "source": []
  },
  {
   "cell_type": "code",
   "execution_count": 39,
   "metadata": {},
   "outputs": [
    {
     "name": "stdout",
     "output_type": "stream",
     "text": [
      "\n",
      "DEBUG: Making PATCH request to http://localhost:18056/meetings/google_meet/fjp-cbnn-hug\n",
      "DEBUG: Headers: {'Content-Type': 'application/json', 'X-API-Key': 'mg1QOAweSfrjZIX2zl4wk5oPjNsploCzwWlFdhfS'}\n",
      "DEBUG: Params: None\n",
      "DEBUG: JSON data: {'data': {'name': 'Test Meeting'}}\n",
      "DEBUG: Response status: 200\n",
      "DEBUG: Response headers: {'date': 'Wed, 03 Sep 2025 13:58:11 GMT, Wed, 03 Sep 2025 13:58:11 GMT', 'server': 'uvicorn, uvicorn', 'content-length': '469', 'content-type': 'application/json'}\n",
      "DEBUG: Response content: {\"id\":245,\"user_id\":122,\"platform\":\"google_meet\",\"native_meeting_id\":\"fjp-cbnn-hug\",\"constructed_meeting_url\":\"https://meet.google.com/fjp-cbnn-hug\",\"status\":\"completed\",\"bot_container_id\":\"vexa-bot-245-01526d8c\",\"start_time\":\"2025-09-03T13:54:42.557697\",\"end_time\":\"2025-09-03T13:57:54.588987\",\"data\":{\"name\":\"Test Meeting\",\"languages\":[\"en\",\"pt\"],\"participants\":[\"Dmitriy Grankin\"]},\"created_at\":\"2025-09-03T13:54:24.365628\",\"updated_at\":\"2025-09-03T13:58:11.914219\"}...\n"
     ]
    },
    {
     "data": {
      "text/plain": [
       "{'id': 245,\n",
       " 'user_id': 122,\n",
       " 'platform': 'google_meet',\n",
       " 'native_meeting_id': 'fjp-cbnn-hug',\n",
       " 'constructed_meeting_url': 'https://meet.google.com/fjp-cbnn-hug',\n",
       " 'status': 'completed',\n",
       " 'bot_container_id': 'vexa-bot-245-01526d8c',\n",
       " 'start_time': '2025-09-03T13:54:42.557697',\n",
       " 'end_time': '2025-09-03T13:57:54.588987',\n",
       " 'data': {'name': 'Test Meeting',\n",
       "  'languages': ['en', 'pt'],\n",
       "  'participants': ['Dmitriy Grankin']},\n",
       " 'created_at': '2025-09-03T13:54:24.365628',\n",
       " 'updated_at': '2025-09-03T13:58:11.914219'}"
      ]
     },
     "execution_count": 39,
     "metadata": {},
     "output_type": "execute_result"
    }
   ],
   "source": [
    "client.update_meeting_data(\n",
    "    platform=\"google_meet\",\n",
    "    native_meeting_id=native_meeting_id,\n",
    "    name=\"Test Meeting\",\n",
    ")"
   ]
  },
  {
   "cell_type": "code",
   "execution_count": 32,
   "metadata": {},
   "outputs": [
    {
     "name": "stdout",
     "output_type": "stream",
     "text": [
      "\n",
      "DEBUG: Making DELETE request to http://localhost:18056/meetings/google_meet/xdy-txjo-fyh\n",
      "DEBUG: Headers: {'Content-Type': 'application/json', 'X-API-Key': 'aQGEy4cX1XN9l60QOEsWKcWWKNNc0prjYUu7pkhw'}\n",
      "DEBUG: Params: None\n",
      "DEBUG: JSON data: None\n",
      "DEBUG: Response status: 200\n",
      "DEBUG: Response headers: {'date': 'Sun, 08 Jun 2025 15:06:02 GMT, Sun, 08 Jun 2025 15:06:02 GMT', 'server': 'uvicorn, uvicorn', 'content-length': '88', 'content-type': 'application/json'}\n",
      "DEBUG: Response content: {\"message\":\"Meeting google_meet/xdy-txjo-fyh and all its transcripts have been deleted\"}...\n"
     ]
    },
    {
     "data": {
      "text/plain": [
       "{'message': 'Meeting google_meet/xdy-txjo-fyh and all its transcripts have been deleted'}"
      ]
     },
     "execution_count": 32,
     "metadata": {},
     "output_type": "execute_result"
    }
   ],
   "source": [
    "client.delete_meeting(\n",
    "    platform=\"google_meet\",\n",
    "    native_meeting_id=native_meeting_id,\n",
    ")"
   ]
  },
  {
   "cell_type": "code",
   "execution_count": null,
   "metadata": {},
   "outputs": [],
   "source": []
  }
 ],
 "metadata": {
  "kernelspec": {
   "display_name": "vexa",
   "language": "python",
   "name": "python3"
  },
  "language_info": {
   "codemirror_mode": {
    "name": "ipython",
    "version": 3
   },
   "file_extension": ".py",
   "mimetype": "text/x-python",
   "name": "python",
   "nbconvert_exporter": "python",
   "pygments_lexer": "ipython3",
   "version": "3.11.10"
  }
 },
 "nbformat": 4,
 "nbformat_minor": 2
}
